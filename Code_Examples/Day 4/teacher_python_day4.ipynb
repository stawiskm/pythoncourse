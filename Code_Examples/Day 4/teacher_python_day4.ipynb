{
  "cells": [
    {
      "cell_type": "markdown",
      "id": "ec46ed34",
      "metadata": {},
      "source": [
        "# Python Data Science Guide\n",
        "\n",
        "Welcome to the Python Data Science Guide! In this comprehensive guide, we will cover various fundamental topics in Python Data Science. Each topic will be explained in detail with examples and code snippets to help you understand and master the concepts. Let's dive in!"
      ]
    },
    {
      "cell_type": "markdown",
      "id": "0d406771",
      "metadata": {},
      "source": [
        "## Table of Contents\n",
        "- [Python Data Science Guide](#python-data-science-guide)\n",
        "  - [Table of Contents](#table-of-contents)\n",
        "  - [Introduction to Data Science](#introduction-to-data-science)\n",
        "  - [Using Pandas to Explore Cardiovascular Disease Dataset](#using-pandas-to-explore-cardiovascular-disease-dataset)\n",
        "  - [Feature Engineering: Calculation of BMI](#feature-engineering-calculation-of-bmi)\n",
        "  - [Data Statistics](#data-statistics)\n",
        "  - [Data Visualization](#data-visualization)\n",
        "  - [Introduction to Decision Trees](#introduction-to-decision-trees)\n",
        "  - [Building the First Machine Learning Model](#building-the-first-machine-learning-model)\n",
        "  - [Tree Visualization](#tree-visualization)\n",
        "  - [Model Saving using Pickle Library](#model-saving-using-pickle-library)"
      ]
    },
    {
      "cell_type": "markdown",
      "id": "d1dbfe99",
      "metadata": {},
      "source": [
        "## Introduction to Data Science<a name=\"introduction-to-data-science\"></a>\n",
        "Data science and machine learning are powerful disciplines that have revolutionized the way we analyze and interpret data. Data science focuses on extracting insights and knowledge from vast amounts of structured and unstructured data, while machine learning involves developing algorithms that enable computers to learn and make predictions or decisions based on patterns in data. These fields intersect in numerous ways, with data science providing the foundation for machine learning models. By harnessing the potential of data and leveraging advanced algorithms, data scientists and machine learning practitioners are driving innovation across industries and shaping the future of technology."
      ]
    },
    {
      "cell_type": "markdown",
      "id": "8e38a0de",
      "metadata": {},
      "source": [
        "## Using Pandas to Explore Cardiovascular Disease Dataset<a name=\"using-pandas-to-explore-cardiovascular-disease-dataset\"></a>\n",
        "\n",
        "In this section, we will use the Pandas library to explore a Cardiovascular Disease dataset. The dataset contains information about individuals' age, gender, height, weight, and the presence or absence of a cardiac event.\n",
        "\n",
        "To get started, make sure you have the Pandas library installed. You can install it using the following command:\n",
        "\n",
        "```python\n",
        "!pip install pandas\n",
        "```\n",
        "\n",
        "Once Pandas is installed, we can begin exploring the dataset. Let's assume the dataset is stored in a CSV file called \"data.csv\". We can load the dataset into a Pandas DataFrame using the `read_csv()` function:\n",
        "\n",
        "```python\n",
        "import pandas as pd\n",
        "\n",
        "# Load the dataset\n",
        "data = pd.read_csv('cube_data.csv')\n",
        "```"
      ]
    },
    {
      "cell_type": "code",
      "execution_count": 2,
      "id": "9f1e8e67",
      "metadata": {},
      "outputs": [],
      "source": [
        "# Exercise 1\n",
        "# Import Pandas and load the CSV file called \"cardio.csv\"\n",
        "import pandas as pd\n",
        "data = pd.read_csv('Data/cardio.csv')"
      ]
    },
    {
      "cell_type": "markdown",
      "id": "9f38fe8b",
      "metadata": {},
      "source": [
        "Now that the dataset is loaded, we can perform various operations on it using Pandas. Here are a few examples:\n",
        "\n",
        "- To display the first few rows of the dataset, use the `head()` method:\n",
        "  ```python\n",
        "  data.head()\n",
        "  ```"
      ]
    },
    {
      "cell_type": "markdown",
      "id": "b43d8cc5",
      "metadata": {},
      "source": [
        "- To get basic information about the dataset, such as the number of rows and columns, data types, and memory usage, use the `info()` method:\n",
        "  ```python\n",
        "  data.info()\n",
        "  ```"
      ]
    },
    {
      "cell_type": "markdown",
      "id": "dfa18883",
      "metadata": {},
      "source": [
        "- To compute descriptive statistics of the numerical columns in the dataset, use the `describe()` method:\n",
        "  ```python\n",
        "  data.describe()\n",
        "  ```"
      ]
    },
    {
      "cell_type": "code",
      "execution_count": 3,
      "id": "116c4774",
      "metadata": {},
      "outputs": [
        {
          "data": {
            "text/html": [
              "<div>\n",
              "<style scoped>\n",
              "    .dataframe tbody tr th:only-of-type {\n",
              "        vertical-align: middle;\n",
              "    }\n",
              "\n",
              "    .dataframe tbody tr th {\n",
              "        vertical-align: top;\n",
              "    }\n",
              "\n",
              "    .dataframe thead th {\n",
              "        text-align: right;\n",
              "    }\n",
              "</style>\n",
              "<table border=\"1\" class=\"dataframe\">\n",
              "  <thead>\n",
              "    <tr style=\"text-align: right;\">\n",
              "      <th></th>\n",
              "      <th>age</th>\n",
              "      <th>gender</th>\n",
              "      <th>height</th>\n",
              "      <th>weight</th>\n",
              "      <th>cardiac-event</th>\n",
              "    </tr>\n",
              "  </thead>\n",
              "  <tbody>\n",
              "    <tr>\n",
              "      <th>0</th>\n",
              "      <td>61.558904</td>\n",
              "      <td>Female</td>\n",
              "      <td>155</td>\n",
              "      <td>69.0</td>\n",
              "      <td>No</td>\n",
              "    </tr>\n",
              "    <tr>\n",
              "      <th>1</th>\n",
              "      <td>40.131507</td>\n",
              "      <td>Female</td>\n",
              "      <td>163</td>\n",
              "      <td>71.0</td>\n",
              "      <td>Yes</td>\n",
              "    </tr>\n",
              "    <tr>\n",
              "      <th>2</th>\n",
              "      <td>60.002740</td>\n",
              "      <td>Female</td>\n",
              "      <td>165</td>\n",
              "      <td>70.0</td>\n",
              "      <td>No</td>\n",
              "    </tr>\n",
              "    <tr>\n",
              "      <th>3</th>\n",
              "      <td>39.860274</td>\n",
              "      <td>Male</td>\n",
              "      <td>165</td>\n",
              "      <td>85.0</td>\n",
              "      <td>No</td>\n",
              "    </tr>\n",
              "    <tr>\n",
              "      <th>4</th>\n",
              "      <td>64.090411</td>\n",
              "      <td>Female</td>\n",
              "      <td>155</td>\n",
              "      <td>62.0</td>\n",
              "      <td>No</td>\n",
              "    </tr>\n",
              "  </tbody>\n",
              "</table>\n",
              "</div>"
            ],
            "text/plain": [
              "         age  gender  height  weight cardiac-event\n",
              "0  61.558904  Female     155    69.0            No\n",
              "1  40.131507  Female     163    71.0           Yes\n",
              "2  60.002740  Female     165    70.0            No\n",
              "3  39.860274    Male     165    85.0            No\n",
              "4  64.090411  Female     155    62.0            No"
            ]
          },
          "execution_count": 3,
          "metadata": {},
          "output_type": "execute_result"
        }
      ],
      "source": [
        "# Exercise 2\n",
        "# Display the first 5 rows of the dataset\n",
        "data.head()"
      ]
    },
    {
      "cell_type": "code",
      "execution_count": 4,
      "id": "dd60fd8b",
      "metadata": {},
      "outputs": [
        {
          "name": "stdout",
          "output_type": "stream",
          "text": [
            "<class 'pandas.core.frame.DataFrame'>\n",
            "RangeIndex: 69301 entries, 0 to 69300\n",
            "Data columns (total 5 columns):\n",
            " #   Column         Non-Null Count  Dtype  \n",
            "---  ------         --------------  -----  \n",
            " 0   age            69301 non-null  float64\n",
            " 1   gender         69301 non-null  object \n",
            " 2   height         69301 non-null  int64  \n",
            " 3   weight         69301 non-null  float64\n",
            " 4   cardiac-event  69301 non-null  object \n",
            "dtypes: float64(2), int64(1), object(2)\n",
            "memory usage: 2.6+ MB\n"
          ]
        }
      ],
      "source": [
        "# Exercise 3\n",
        "# Display the basic information about the dataset\n",
        "data.info()"
      ]
    },
    {
      "cell_type": "code",
      "execution_count": 5,
      "id": "d201a787",
      "metadata": {},
      "outputs": [
        {
          "data": {
            "text/html": [
              "<div>\n",
              "<style scoped>\n",
              "    .dataframe tbody tr th:only-of-type {\n",
              "        vertical-align: middle;\n",
              "    }\n",
              "\n",
              "    .dataframe tbody tr th {\n",
              "        vertical-align: top;\n",
              "    }\n",
              "\n",
              "    .dataframe thead th {\n",
              "        text-align: right;\n",
              "    }\n",
              "</style>\n",
              "<table border=\"1\" class=\"dataframe\">\n",
              "  <thead>\n",
              "    <tr style=\"text-align: right;\">\n",
              "      <th></th>\n",
              "      <th>age</th>\n",
              "      <th>height</th>\n",
              "      <th>weight</th>\n",
              "    </tr>\n",
              "  </thead>\n",
              "  <tbody>\n",
              "    <tr>\n",
              "      <th>count</th>\n",
              "      <td>69301.000000</td>\n",
              "      <td>69301.000000</td>\n",
              "      <td>69301.000000</td>\n",
              "    </tr>\n",
              "    <tr>\n",
              "      <th>mean</th>\n",
              "      <td>53.339140</td>\n",
              "      <td>164.362217</td>\n",
              "      <td>74.203027</td>\n",
              "    </tr>\n",
              "    <tr>\n",
              "      <th>std</th>\n",
              "      <td>6.759621</td>\n",
              "      <td>8.205337</td>\n",
              "      <td>14.383469</td>\n",
              "    </tr>\n",
              "    <tr>\n",
              "      <th>min</th>\n",
              "      <td>29.583562</td>\n",
              "      <td>55.000000</td>\n",
              "      <td>10.000000</td>\n",
              "    </tr>\n",
              "    <tr>\n",
              "      <th>25%</th>\n",
              "      <td>48.394521</td>\n",
              "      <td>159.000000</td>\n",
              "      <td>65.000000</td>\n",
              "    </tr>\n",
              "    <tr>\n",
              "      <th>50%</th>\n",
              "      <td>53.983562</td>\n",
              "      <td>165.000000</td>\n",
              "      <td>72.000000</td>\n",
              "    </tr>\n",
              "    <tr>\n",
              "      <th>75%</th>\n",
              "      <td>58.427397</td>\n",
              "      <td>170.000000</td>\n",
              "      <td>82.000000</td>\n",
              "    </tr>\n",
              "    <tr>\n",
              "      <th>max</th>\n",
              "      <td>64.967123</td>\n",
              "      <td>250.000000</td>\n",
              "      <td>200.000000</td>\n",
              "    </tr>\n",
              "  </tbody>\n",
              "</table>\n",
              "</div>"
            ],
            "text/plain": [
              "                age        height        weight\n",
              "count  69301.000000  69301.000000  69301.000000\n",
              "mean      53.339140    164.362217     74.203027\n",
              "std        6.759621      8.205337     14.383469\n",
              "min       29.583562     55.000000     10.000000\n",
              "25%       48.394521    159.000000     65.000000\n",
              "50%       53.983562    165.000000     72.000000\n",
              "75%       58.427397    170.000000     82.000000\n",
              "max       64.967123    250.000000    200.000000"
            ]
          },
          "execution_count": 5,
          "metadata": {},
          "output_type": "execute_result"
        }
      ],
      "source": [
        "# Exercise 4\n",
        "# Compute descriptive statistics of the numerical columns\n",
        "data.describe()"
      ]
    },
    {
      "cell_type": "markdown",
      "id": "f707c05d",
      "metadata": {},
      "source": [
        "- To select specific columns from the dataset, you can use indexing or the `loc` or `iloc` accessor:\n",
        "  ```python\n",
        "  # Select specific columns by name\n",
        "  selected_columns = data[['length', 'wide', 'height']]\n",
        "  \n",
        "  # Select specific columns by index\n",
        "  selected_columns = data.iloc[:, [0, 1, 3]]\n",
        "  ```"
      ]
    },
    {
      "cell_type": "code",
      "execution_count": 6,
      "id": "ea964d1f",
      "metadata": {},
      "outputs": [
        {
          "data": {
            "text/html": [
              "<div>\n",
              "<style scoped>\n",
              "    .dataframe tbody tr th:only-of-type {\n",
              "        vertical-align: middle;\n",
              "    }\n",
              "\n",
              "    .dataframe tbody tr th {\n",
              "        vertical-align: top;\n",
              "    }\n",
              "\n",
              "    .dataframe thead th {\n",
              "        text-align: right;\n",
              "    }\n",
              "</style>\n",
              "<table border=\"1\" class=\"dataframe\">\n",
              "  <thead>\n",
              "    <tr style=\"text-align: right;\">\n",
              "      <th></th>\n",
              "      <th>age</th>\n",
              "      <th>gender</th>\n",
              "      <th>weight</th>\n",
              "      <th>height</th>\n",
              "    </tr>\n",
              "  </thead>\n",
              "  <tbody>\n",
              "    <tr>\n",
              "      <th>0</th>\n",
              "      <td>61.558904</td>\n",
              "      <td>Female</td>\n",
              "      <td>69.0</td>\n",
              "      <td>155</td>\n",
              "    </tr>\n",
              "    <tr>\n",
              "      <th>1</th>\n",
              "      <td>40.131507</td>\n",
              "      <td>Female</td>\n",
              "      <td>71.0</td>\n",
              "      <td>163</td>\n",
              "    </tr>\n",
              "    <tr>\n",
              "      <th>2</th>\n",
              "      <td>60.002740</td>\n",
              "      <td>Female</td>\n",
              "      <td>70.0</td>\n",
              "      <td>165</td>\n",
              "    </tr>\n",
              "    <tr>\n",
              "      <th>3</th>\n",
              "      <td>39.860274</td>\n",
              "      <td>Male</td>\n",
              "      <td>85.0</td>\n",
              "      <td>165</td>\n",
              "    </tr>\n",
              "    <tr>\n",
              "      <th>4</th>\n",
              "      <td>64.090411</td>\n",
              "      <td>Female</td>\n",
              "      <td>62.0</td>\n",
              "      <td>155</td>\n",
              "    </tr>\n",
              "  </tbody>\n",
              "</table>\n",
              "</div>"
            ],
            "text/plain": [
              "         age  gender  weight  height\n",
              "0  61.558904  Female    69.0     155\n",
              "1  40.131507  Female    71.0     163\n",
              "2  60.002740  Female    70.0     165\n",
              "3  39.860274    Male    85.0     165\n",
              "4  64.090411  Female    62.0     155"
            ]
          },
          "execution_count": 6,
          "metadata": {},
          "output_type": "execute_result"
        }
      ],
      "source": [
        "# Exercise 5\n",
        "# Select the 'age', 'gender', and 'weight' columns from the dataset\n",
        "selected_columns = data[['age', 'gender', 'weight',\"height\"]]\n",
        "selected_columns.head()"
      ]
    },
    {
      "cell_type": "markdown",
      "id": "7e0fc2b7",
      "metadata": {},
      "source": [
        "- To filter rows based on specific conditions, you can use boolean indexing:\n",
        "  ```python\n",
        "  # Filter rows where height is greater than 50\n",
        "  filtered_data = data[data['height'] > 50]\n",
        "  ```"
      ]
    },
    {
      "cell_type": "code",
      "execution_count": 7,
      "id": "d3511ca7",
      "metadata": {},
      "outputs": [
        {
          "data": {
            "text/html": [
              "<div>\n",
              "<style scoped>\n",
              "    .dataframe tbody tr th:only-of-type {\n",
              "        vertical-align: middle;\n",
              "    }\n",
              "\n",
              "    .dataframe tbody tr th {\n",
              "        vertical-align: top;\n",
              "    }\n",
              "\n",
              "    .dataframe thead th {\n",
              "        text-align: right;\n",
              "    }\n",
              "</style>\n",
              "<table border=\"1\" class=\"dataframe\">\n",
              "  <thead>\n",
              "    <tr style=\"text-align: right;\">\n",
              "      <th></th>\n",
              "      <th>age</th>\n",
              "      <th>gender</th>\n",
              "      <th>height</th>\n",
              "      <th>weight</th>\n",
              "      <th>cardiac-event</th>\n",
              "    </tr>\n",
              "  </thead>\n",
              "  <tbody>\n",
              "    <tr>\n",
              "      <th>0</th>\n",
              "      <td>61.558904</td>\n",
              "      <td>Female</td>\n",
              "      <td>155</td>\n",
              "      <td>69.0</td>\n",
              "      <td>No</td>\n",
              "    </tr>\n",
              "    <tr>\n",
              "      <th>2</th>\n",
              "      <td>60.002740</td>\n",
              "      <td>Female</td>\n",
              "      <td>165</td>\n",
              "      <td>70.0</td>\n",
              "      <td>No</td>\n",
              "    </tr>\n",
              "    <tr>\n",
              "      <th>4</th>\n",
              "      <td>64.090411</td>\n",
              "      <td>Female</td>\n",
              "      <td>155</td>\n",
              "      <td>62.0</td>\n",
              "      <td>No</td>\n",
              "    </tr>\n",
              "    <tr>\n",
              "      <th>5</th>\n",
              "      <td>57.926027</td>\n",
              "      <td>Female</td>\n",
              "      <td>164</td>\n",
              "      <td>61.0</td>\n",
              "      <td>No</td>\n",
              "    </tr>\n",
              "    <tr>\n",
              "      <th>7</th>\n",
              "      <td>61.772603</td>\n",
              "      <td>Female</td>\n",
              "      <td>161</td>\n",
              "      <td>93.0</td>\n",
              "      <td>Yes</td>\n",
              "    </tr>\n",
              "  </tbody>\n",
              "</table>\n",
              "</div>"
            ],
            "text/plain": [
              "         age  gender  height  weight cardiac-event\n",
              "0  61.558904  Female     155    69.0            No\n",
              "2  60.002740  Female     165    70.0            No\n",
              "4  64.090411  Female     155    62.0            No\n",
              "5  57.926027  Female     164    61.0            No\n",
              "7  61.772603  Female     161    93.0           Yes"
            ]
          },
          "execution_count": 7,
          "metadata": {},
          "output_type": "execute_result"
        }
      ],
      "source": [
        "# Exercise 6\n",
        "# Filter rows where age is greater than 50\n",
        "filtered_data = data[data['age'] > 50]\n",
        "filtered_data.head()"
      ]
    },
    {
      "cell_type": "markdown",
      "id": "efc85820",
      "metadata": {},
      "source": [
        "These are just a few examples of what you can do with Pandas. It provides a powerful and convenient way to explore and manipulate tabular data."
      ]
    },
    {
      "cell_type": "markdown",
      "id": "7355d18e",
      "metadata": {},
      "source": [
        "## Feature Engineering: Calculation of BMI<a name=\"feature-engineering-calculation-of-bmi\"></a>\n",
        "\n",
        "Feature engineering is the process of creating new features from existing data to improve the performance of machine learning models. In this section, we will demonstrate feature engineering by calculating the Body Mass Index (BMI) from the height and weight columns in the Cardiovascular Disease dataset.\n",
        "\n",
        "To calculate the BMI, we can use the following formula:\n",
        "\n",
        "```\n",
        "BMI = weight / (height / 100)^2\n",
        "```\n",
        "\n",
        "And this is how you calculate a new features from already existing data.\n",
        "\n",
        "```python\n",
        "# Calculate volume\n",
        "data['volume'] = data['length']*data['wide']*data['height']\n",
        "```\n",
        "\n",
        "Let's add a new column called \"bmi\" to the dataset and calculate the BMI for each individual:"
      ]
    },
    {
      "cell_type": "code",
      "execution_count": 8,
      "id": "f2dddd32",
      "metadata": {},
      "outputs": [
        {
          "data": {
            "text/html": [
              "<div>\n",
              "<style scoped>\n",
              "    .dataframe tbody tr th:only-of-type {\n",
              "        vertical-align: middle;\n",
              "    }\n",
              "\n",
              "    .dataframe tbody tr th {\n",
              "        vertical-align: top;\n",
              "    }\n",
              "\n",
              "    .dataframe thead th {\n",
              "        text-align: right;\n",
              "    }\n",
              "</style>\n",
              "<table border=\"1\" class=\"dataframe\">\n",
              "  <thead>\n",
              "    <tr style=\"text-align: right;\">\n",
              "      <th></th>\n",
              "      <th>age</th>\n",
              "      <th>gender</th>\n",
              "      <th>height</th>\n",
              "      <th>weight</th>\n",
              "      <th>cardiac-event</th>\n",
              "      <th>bmi</th>\n",
              "    </tr>\n",
              "  </thead>\n",
              "  <tbody>\n",
              "    <tr>\n",
              "      <th>0</th>\n",
              "      <td>61.558904</td>\n",
              "      <td>Female</td>\n",
              "      <td>155</td>\n",
              "      <td>69.0</td>\n",
              "      <td>No</td>\n",
              "      <td>28.720083</td>\n",
              "    </tr>\n",
              "    <tr>\n",
              "      <th>1</th>\n",
              "      <td>40.131507</td>\n",
              "      <td>Female</td>\n",
              "      <td>163</td>\n",
              "      <td>71.0</td>\n",
              "      <td>Yes</td>\n",
              "      <td>26.722873</td>\n",
              "    </tr>\n",
              "    <tr>\n",
              "      <th>2</th>\n",
              "      <td>60.002740</td>\n",
              "      <td>Female</td>\n",
              "      <td>165</td>\n",
              "      <td>70.0</td>\n",
              "      <td>No</td>\n",
              "      <td>25.711662</td>\n",
              "    </tr>\n",
              "    <tr>\n",
              "      <th>3</th>\n",
              "      <td>39.860274</td>\n",
              "      <td>Male</td>\n",
              "      <td>165</td>\n",
              "      <td>85.0</td>\n",
              "      <td>No</td>\n",
              "      <td>31.221304</td>\n",
              "    </tr>\n",
              "    <tr>\n",
              "      <th>4</th>\n",
              "      <td>64.090411</td>\n",
              "      <td>Female</td>\n",
              "      <td>155</td>\n",
              "      <td>62.0</td>\n",
              "      <td>No</td>\n",
              "      <td>25.806452</td>\n",
              "    </tr>\n",
              "  </tbody>\n",
              "</table>\n",
              "</div>"
            ],
            "text/plain": [
              "         age  gender  height  weight cardiac-event        bmi\n",
              "0  61.558904  Female     155    69.0            No  28.720083\n",
              "1  40.131507  Female     163    71.0           Yes  26.722873\n",
              "2  60.002740  Female     165    70.0            No  25.711662\n",
              "3  39.860274    Male     165    85.0            No  31.221304\n",
              "4  64.090411  Female     155    62.0            No  25.806452"
            ]
          },
          "execution_count": 8,
          "metadata": {},
          "output_type": "execute_result"
        }
      ],
      "source": [
        "# Exercise 7\n",
        "# Calculate the BMI for each individual and add it as a new column\n",
        "data['bmi'] = data['weight'] / (data['height'] / 100) ** 2\n",
        "data.head()"
      ]
    },
    {
      "cell_type": "markdown",
      "id": "56b00e97",
      "metadata": {},
      "source": [
        "Now the dataset contains a new column \"bmi\" with the calculated BMI values. We can use this feature as an additional input for our machine learning models.\n",
        "\n",
        "Feature engineering allows us to extract more meaningful information from the existing data, which can improve the performance and accuracy of our models."
      ]
    },
    {
      "cell_type": "markdown",
      "id": "62855fcd",
      "metadata": {},
      "source": [
        "## Data Statistics<a name=\"data-statistics\"></a>\n",
        "\n",
        "Understanding the statistics of the dataset is crucial for gaining insights and making informed decisions. In this section, we will explore how to compute various statistics for our dataset.\n",
        "\n",
        "Pandas provides a wide range of statistical functions that can be applied to DataFrame columns. Here are a few examples:"
      ]
    },
    {
      "cell_type": "markdown",
      "id": "a5c855cb",
      "metadata": {},
      "source": [
        "- To calculate the mean value of a column, use the `mean()` method:\n",
        "  ```python\n",
        "  data['volume'].mean()\n",
        "  ```"
      ]
    },
    {
      "cell_type": "markdown",
      "id": "0e485c63",
      "metadata": {},
      "source": [
        "- To calculate the median value of a column, use the `median()` method:\n",
        "  ```python\n",
        "  data['volume'].median()\n",
        "  ```"
      ]
    },
    {
      "cell_type": "markdown",
      "id": "6e2175c6",
      "metadata": {},
      "source": [
        "- To calculate the standard deviation of a column, use the `std()` method:\n",
        "  ```python\n",
        "  data['volume'].std()\n",
        "  ```"
      ]
    },
    {
      "cell_type": "markdown",
      "id": "a8eb055e",
      "metadata": {},
      "source": [
        "- To calculate the correlation between two columns, use the `corr()` method:\n",
        "  ```python\n",
        "  data['volume'].corr(data['lenght'])\n",
        "  ```"
      ]
    },
    {
      "cell_type": "markdown",
      "id": "ddfa6676",
      "metadata": {},
      "source": [
        "- To count the occurrences of each unique value in a column, use the `value_counts()` method:\n",
        "  ```python\n",
        "  data['color'].value_counts()\n",
        "  ```"
      ]
    },
    {
      "cell_type": "markdown",
      "id": "6d6786ad",
      "metadata": {},
      "source": [
        "These are just a few examples of the statistical functions available in Pandas. By computing and analyzing various statistics, we can gain insights into the dataset and make informed decisions during the data science process."
      ]
    },
    {
      "cell_type": "code",
      "execution_count": 9,
      "id": "a4c03247",
      "metadata": {},
      "outputs": [
        {
          "name": "stdout",
          "output_type": "stream",
          "text": [
            "Mean age: 53.339140493534956\n"
          ]
        }
      ],
      "source": [
        "# Exercise 8\n",
        "# Calculate the mean value of the 'age' column\n",
        "mean_age = data['age'].mean()\n",
        "print('Mean age:', mean_age)"
      ]
    },
    {
      "cell_type": "code",
      "execution_count": 10,
      "id": "007faaf7",
      "metadata": {},
      "outputs": [
        {
          "name": "stdout",
          "output_type": "stream",
          "text": [
            "Median age: 53.983561643835614\n"
          ]
        }
      ],
      "source": [
        "# Exercise 9\n",
        "# Calculate the median value of the 'age' column\n",
        "median_age = data['age'].median()\n",
        "print('Median age:', median_age)"
      ]
    },
    {
      "cell_type": "code",
      "execution_count": 11,
      "id": "e1917ccd",
      "metadata": {},
      "outputs": [
        {
          "name": "stdout",
          "output_type": "stream",
          "text": [
            "Standard deviation of age: 6.759621419685528\n"
          ]
        }
      ],
      "source": [
        "# Exercise 10\n",
        "# Calculate the standard deviation of the 'age' column\n",
        "std_age = data['age'].std()\n",
        "print('Standard deviation of age:', std_age)"
      ]
    },
    {
      "cell_type": "code",
      "execution_count": 12,
      "id": "3a070769",
      "metadata": {},
      "outputs": [
        {
          "name": "stdout",
          "output_type": "stream",
          "text": [
            "Correlation between age and weight: 0.054408685948134736\n"
          ]
        }
      ],
      "source": [
        "# Exercise 11\n",
        "# Calculate the correlation between the 'age' and 'weight' columns\n",
        "correlation = data['age'].corr(data['weight'])\n",
        "print('Correlation between age and weight:', correlation)"
      ]
    },
    {
      "cell_type": "code",
      "execution_count": 13,
      "id": "5017cf90",
      "metadata": {},
      "outputs": [
        {
          "name": "stdout",
          "output_type": "stream",
          "text": [
            "Gender counts: Female    45079\n",
            "Male      24222\n",
            "Name: gender, dtype: int64\n"
          ]
        }
      ],
      "source": [
        "# Exercise 12\n",
        "# Count the occurrences of each unique value in the 'gender' column\n",
        "gender_counts = data['gender'].value_counts()\n",
        "print('Gender counts:', gender_counts)"
      ]
    },
    {
      "cell_type": "markdown",
      "id": "69ae398d",
      "metadata": {},
      "source": [
        "## Data Visualization<a name=\"data-visualization\"></a>\n",
        "\n",
        "Data visualization is an essential tool for understanding patterns, relationships, and distributions in the dataset. In this section, we will explore different data visualization techniques using Python libraries like Matplotlib and Seaborn.\n",
        "\n",
        "To get started, make sure you have the Matplotlib and Seaborn libraries installed. You can install them using the following commands:\n",
        "\n",
        "```python\n",
        "!pip install matplotlib\n",
        "!pip install seaborn\n",
        "```\n",
        "\n",
        "Once the libraries are installed, we can begin creating visualizations. Here are a few examples:"
      ]
    },
    {
      "cell_type": "markdown",
      "id": "33dc4e0f",
      "metadata": {},
      "source": [
        "- To create a histogram of a numerical column, use the `hist()` function from Matplotlib:\n",
        "  ```python\n",
        "  import matplotlib.pyplot as plt\n",
        "\n",
        "  plt.hist(data['volume'], bins=20)\n",
        "  plt.xlabel('Volume')\n",
        "  plt.ylabel('Frequency')\n",
        "  plt.title('Distribution of Volume')\n",
        "  plt.show()\n",
        "  ```"
      ]
    },
    {
      "cell_type": "markdown",
      "id": "fad8a1e5",
      "metadata": {},
      "source": [
        "- To create a bar chart of a categorical column, use the `countplot()` function from Seaborn:\n",
        "  ```python\n",
        "  import seaborn as sns\n",
        "\n",
        "  sns.countplot(data['color'])\n",
        "  plt.xlabel('Color')\n",
        "  plt.ylabel('Count')\n",
        "  plt.title('Distribution of Color')\n",
        "  plt.show()\n",
        "  ```"
      ]
    },
    {
      "cell_type": "markdown",
      "id": "8316a525",
      "metadata": {},
      "source": [
        "- To create a scatter plot of two numerical columns, use the `scatter()` function from Matplotlib:\n",
        "  ```python\n",
        "  sns.scatterplot(data=data ,x='lenght',y='wide',hue='color')  \n",
        "  plt.xlabel('Lenght')\n",
        "  plt.ylabel('Wide')\n",
        "  plt.title('Length vs. Wide)\n",
        "  plt.show()\n",
        "  ```"
      ]
    },
    {
      "cell_type": "code",
      "execution_count": 14,
      "id": "31582051",
      "metadata": {},
      "outputs": [
        {
          "data": {
            "image/png": "[encoded data removed]",
            "text/plain": [
              "<Figure size 640x480 with 1 Axes>"
            ]
          },
          "metadata": {},
          "output_type": "display_data"
        }
      ],
      "source": [
        "# Exercise 13\n",
        "# Create a histogram of the 'age' column\n",
        "import matplotlib.pyplot as plt\n",
        "\n",
        "plt.hist(data['age'], bins=20)\n",
        "plt.xlabel('Age')\n",
        "plt.ylabel('Frequency')\n",
        "plt.title('Distribution of Age')\n",
        "plt.show()"
      ]
    },
    {
      "cell_type": "code",
      "execution_count": 15,
      "id": "dd09b3b2",
      "metadata": {},
      "outputs": [
        {
          "data": {
            "image/png": "[encoded data removed]",
            "text/plain": [
              "<Figure size 640x480 with 1 Axes>"
            ]
          },
          "metadata": {},
          "output_type": "display_data"
        }
      ],
      "source": [
        "# Exercise 14\n",
        "# Create a bar chart of the 'gender' column\n",
        "import seaborn as sns\n",
        "\n",
        "# Create the countplot\n",
        "sns.countplot(x='gender', data=data)\n",
        "plt.xlabel('Gender')\n",
        "plt.ylabel('Count')\n",
        "plt.title('Distribution of Gender')\n",
        "plt.show()"
      ]
    },
    {
      "cell_type": "code",
      "execution_count": 16,
      "id": "2d72e775",
      "metadata": {},
      "outputs": [
        {
          "data": {
            "image/png": "[encoded data removed]",
            "text/plain": [
              "<Figure size 640x480 with 1 Axes>"
            ]
          },
          "metadata": {},
          "output_type": "display_data"
        }
      ],
      "source": [
        "# Exercise 15\n",
        "# Create a scatter plot of the 'height' and 'weight' columns and use hue for 'gender'\n",
        "sns.scatterplot(data=data ,x='height',y='weight',hue='gender')\n",
        "plt.xlabel('Height')\n",
        "plt.ylabel('Weight')\n",
        "plt.title('Height vs. Weight')\n",
        "plt.show()"
      ]
    },
    {
      "cell_type": "markdown",
      "id": "cec37b59",
      "metadata": {},
      "source": [
        "These examples demonstrate only a fraction of the data visualization possibilities. Matplotlib and Seaborn offer a wide range of plotting functions and customization options to create informative and visually appealing visualizations."
      ]
    },
    {
      "cell_type": "markdown",
      "id": "9fd6252e",
      "metadata": {},
      "source": [
        "## Introduction to Decision Trees<a name=\"introduction-to-decision-trees\"></a>\n",
        "\n",
        "Decision Trees are a popular supervised learning algorithm used for both classification and regression tasks. They are intuitive and can handle both categorical and numerical data. Decision Trees make decisions by constructing a tree-like model of decisions and their possible consequences. In this section, we will understand how a decision tree works.\n",
        "\n",
        "A decision tree consists of nodes and edges. Each node represents a feature or attribute, and each edge represents a decision rule based on that feature. The topmost node in the tree is called the root node, and the nodes at the bottom are called leaf nodes. Decision Trees work by recursively splitting the data based on the feature that provides the best information gain or Gini impurity.\n",
        "\n",
        "The decision tree algorithm follows these steps:\n",
        "1. Select the best attribute to split the data.\n",
        "2. Create a new node with the selected attribute.\n",
        "3. Partition the data based on the attribute values.\n",
        "4. Repeat steps 1-3 for each partition until a stopping criterion is met.\n",
        "5. Assign the most common target value to the leaf nodes.\n",
        "\n",
        "Decision Trees have several advantages, such as interpretability and handling missing values. However, they can be prone to overfitting and may not generalize well to unseen data. To overcome these limitations, ensemble methods like Random Forests are often used."
      ]
    },
    {
      "cell_type": "code",
      "execution_count": 17,
      "id": "61d0b120",
      "metadata": {},
      "outputs": [
        {
          "name": "stdout",
          "output_type": "stream",
          "text": [
            "Gini impurity: 0.5\n"
          ]
        }
      ],
      "source": [
        "# Exercise (hard, not mandatory)\n",
        "# Define a function to calculate the Gini impurity\n",
        "def calculate_gini_impurity(data, target):\n",
        "    # Calculate the Gini impurity\n",
        "    impurity = 1\n",
        "    classes = data[target].unique()\n",
        "    total_samples = len(data)\n",
        "\n",
        "    for cls in classes:\n",
        "        p = len(data[data[target] == cls]) / total_samples\n",
        "        impurity -= p ** 2\n",
        "\n",
        "    return impurity\n",
        "\n",
        "# Test the function\n",
        "test_df = pd.DataFrame({'feature': [1, 2, 3, 4], 'target': [0, 0, 1, 1]})\n",
        "gini_impurity = calculate_gini_impurity(test_df, 'target')\n",
        "print('Gini impurity:', gini_impurity) #Output: Gini impurity: 0.5"
      ]
    },
    {
      "cell_type": "markdown",
      "id": "19c84daf",
      "metadata": {},
      "source": [
        "### Feature preparation for scikit learn\n",
        "Although decision trees can normally handle categorical and also numeric values, due to Scikit Learn library the gender label must be encoded. This is done by assigning a number to each possible string. For example red equals 0 blue equals 1."
      ]
    },
    {
      "cell_type": "code",
      "execution_count": 18,
      "id": "ad2efc17",
      "metadata": {},
      "outputs": [],
      "source": [
        "# Convert the gender column to a numeric variable\n",
        "from sklearn.preprocessing import LabelEncoder\n",
        "# Create a label encoder\n",
        "le = LabelEncoder()\n",
        "\n",
        "# Fit the label encoder to the gender column\n",
        "le.fit(data[\"gender\"])\n",
        "\n",
        "# Transform the gender column\n",
        "data[\"gender\"] = le.transform(data[\"gender\"])"
      ]
    },
    {
      "cell_type": "markdown",
      "id": "f019fdf3",
      "metadata": {},
      "source": [
        "## Building the First Machine Learning Model<a name=\"building-the-first-machine-learning-model\"></a>\n",
        "\n",
        "Machine learning models are trained on data to make predictions or infer patterns. In this section, we will build our first machine learning model using the Cardiovascular Disease dataset.\n",
        "\n",
        "To get started, make sure you have scikit-learn installed. You can install it using the following command:\n",
        "\n",
        "```python\n",
        "!pip install scikit-learn\n",
        "```"
      ]
    },
    {
      "cell_type": "markdown",
      "id": "b611cea6",
      "metadata": {},
      "source": [
        "Before building the model, we need to split the dataset into input features (X) and the target variable (y). In our case, the target variable is the presence or absence of a cardiac event. We will use the scikit-learn library to split the data and build the model.\n",
        "\n",
        "The simplest way to split your data into X and y is shown here. Where \"color\" here represents the target.\n",
        "\n",
        "``` python\n",
        "X = data.drop([\"color\"], axis=1)\n",
        "y = data['color']\n",
        "```"
      ]
    },
    {
      "cell_type": "markdown",
      "id": "0addca53",
      "metadata": {},
      "source": [
        "Now that we have split the dataset, we can proceed to build our machine learning model. There are several algorithms to choose from, such as Decision Trees, Random Forests, and Gradient Boosting. In this example, we will use a Decision Tree classifier.\n",
        "\n",
        "\n",
        "One way to proceed would be as follows. First, the necessary libraries are imported. Then the data is split into a so-called train and test set. Then you instantiate the model. Train the model with the training data. Make predictions of the testset and compare them with the reality. Evaluate the trained model.\n",
        "```python\n",
        "from sklearn.tree import DecisionTreeClassifier\n",
        "from sklearn.model_selection import train_test_split\n",
        "from sklearn.metrics import accuracy_score\n",
        "\n",
        "# Split the data into training and testing sets\n",
        "X_train, X_test, y_train, y_test = train_test_split(X, y, test_size=0.2, random_state=42)\n",
        "\n",
        "# Create the Decision Tree classifier\n",
        "clf = DecisionTreeClassifier()\n",
        "\n",
        "# Train the classifier\n",
        "clf.fit(X_train, y_train)\n",
        "\n",
        "# Make predictions on the test set\n",
        "y_pred = clf.predict(X_test)\n",
        "\n",
        "# Evaluate the model\n",
        "accuracy = accuracy_score(y_test, y_pred)\n",
        "print('Accuracy:', accuracy)\n",
        "```"
      ]
    },
    {
      "cell_type": "code",
      "execution_count": 19,
      "id": "ab842b06",
      "metadata": {},
      "outputs": [
        {
          "name": "stdout",
          "output_type": "stream",
          "text": [
            "Shape of X: (69301, 5)\n",
            "Shape of y: (69301,)\n"
          ]
        }
      ],
      "source": [
        "# Exercise 16\n",
        "# Split the dataset into input features (X) and target variable (y)\n",
        "X = data.drop([\"cardiac-event\"], axis=1)\n",
        "y = data['cardiac-event']\n",
        "\n",
        "# Print the shapes of X and y\n",
        "print('Shape of X:', X.shape)\n",
        "print('Shape of y:', y.shape)"
      ]
    },
    {
      "cell_type": "code",
      "execution_count": 20,
      "id": "274475f2",
      "metadata": {},
      "outputs": [
        {
          "data": {
            "text/html": [
              "<div>\n",
              "<style scoped>\n",
              "    .dataframe tbody tr th:only-of-type {\n",
              "        vertical-align: middle;\n",
              "    }\n",
              "\n",
              "    .dataframe tbody tr th {\n",
              "        vertical-align: top;\n",
              "    }\n",
              "\n",
              "    .dataframe thead th {\n",
              "        text-align: right;\n",
              "    }\n",
              "</style>\n",
              "<table border=\"1\" class=\"dataframe\">\n",
              "  <thead>\n",
              "    <tr style=\"text-align: right;\">\n",
              "      <th></th>\n",
              "      <th>age</th>\n",
              "      <th>gender</th>\n",
              "      <th>height</th>\n",
              "      <th>weight</th>\n",
              "      <th>bmi</th>\n",
              "    </tr>\n",
              "  </thead>\n",
              "  <tbody>\n",
              "    <tr>\n",
              "      <th>0</th>\n",
              "      <td>61.558904</td>\n",
              "      <td>0</td>\n",
              "      <td>155</td>\n",
              "      <td>69.0</td>\n",
              "      <td>28.720083</td>\n",
              "    </tr>\n",
              "    <tr>\n",
              "      <th>1</th>\n",
              "      <td>40.131507</td>\n",
              "      <td>0</td>\n",
              "      <td>163</td>\n",
              "      <td>71.0</td>\n",
              "      <td>26.722873</td>\n",
              "    </tr>\n",
              "    <tr>\n",
              "      <th>2</th>\n",
              "      <td>60.002740</td>\n",
              "      <td>0</td>\n",
              "      <td>165</td>\n",
              "      <td>70.0</td>\n",
              "      <td>25.711662</td>\n",
              "    </tr>\n",
              "    <tr>\n",
              "      <th>3</th>\n",
              "      <td>39.860274</td>\n",
              "      <td>1</td>\n",
              "      <td>165</td>\n",
              "      <td>85.0</td>\n",
              "      <td>31.221304</td>\n",
              "    </tr>\n",
              "    <tr>\n",
              "      <th>4</th>\n",
              "      <td>64.090411</td>\n",
              "      <td>0</td>\n",
              "      <td>155</td>\n",
              "      <td>62.0</td>\n",
              "      <td>25.806452</td>\n",
              "    </tr>\n",
              "    <tr>\n",
              "      <th>...</th>\n",
              "      <td>...</td>\n",
              "      <td>...</td>\n",
              "      <td>...</td>\n",
              "      <td>...</td>\n",
              "      <td>...</td>\n",
              "    </tr>\n",
              "    <tr>\n",
              "      <th>69296</th>\n",
              "      <td>52.712329</td>\n",
              "      <td>1</td>\n",
              "      <td>168</td>\n",
              "      <td>76.0</td>\n",
              "      <td>26.927438</td>\n",
              "    </tr>\n",
              "    <tr>\n",
              "      <th>69297</th>\n",
              "      <td>61.920548</td>\n",
              "      <td>0</td>\n",
              "      <td>158</td>\n",
              "      <td>126.0</td>\n",
              "      <td>50.472681</td>\n",
              "    </tr>\n",
              "    <tr>\n",
              "      <th>69298</th>\n",
              "      <td>52.235616</td>\n",
              "      <td>1</td>\n",
              "      <td>183</td>\n",
              "      <td>105.0</td>\n",
              "      <td>31.353579</td>\n",
              "    </tr>\n",
              "    <tr>\n",
              "      <th>69299</th>\n",
              "      <td>61.454795</td>\n",
              "      <td>0</td>\n",
              "      <td>163</td>\n",
              "      <td>72.0</td>\n",
              "      <td>27.099251</td>\n",
              "    </tr>\n",
              "    <tr>\n",
              "      <th>69300</th>\n",
              "      <td>56.273973</td>\n",
              "      <td>0</td>\n",
              "      <td>170</td>\n",
              "      <td>72.0</td>\n",
              "      <td>24.913495</td>\n",
              "    </tr>\n",
              "  </tbody>\n",
              "</table>\n",
              "<p>69301 rows × 5 columns</p>\n",
              "</div>"
            ],
            "text/plain": [
              "             age  gender  height  weight        bmi\n",
              "0      61.558904       0     155    69.0  28.720083\n",
              "1      40.131507       0     163    71.0  26.722873\n",
              "2      60.002740       0     165    70.0  25.711662\n",
              "3      39.860274       1     165    85.0  31.221304\n",
              "4      64.090411       0     155    62.0  25.806452\n",
              "...          ...     ...     ...     ...        ...\n",
              "69296  52.712329       1     168    76.0  26.927438\n",
              "69297  61.920548       0     158   126.0  50.472681\n",
              "69298  52.235616       1     183   105.0  31.353579\n",
              "69299  61.454795       0     163    72.0  27.099251\n",
              "69300  56.273973       0     170    72.0  24.913495\n",
              "\n",
              "[69301 rows x 5 columns]"
            ]
          },
          "execution_count": 20,
          "metadata": {},
          "output_type": "execute_result"
        }
      ],
      "source": [
        "X"
      ]
    },
    {
      "cell_type": "code",
      "execution_count": 21,
      "id": "641e50c3",
      "metadata": {},
      "outputs": [
        {
          "name": "stdout",
          "output_type": "stream",
          "text": [
            "Shape of X_train: (51975, 5)\n",
            "Shape of X_test: (17326, 5)\n",
            "Shape of y_train: (51975,)\n",
            "Shape of y_test: (17326,)\n"
          ]
        }
      ],
      "source": [
        "# Exercise 17\n",
        "# Split the dataset (75/25) into training and testing sets\n",
        "from sklearn.model_selection import train_test_split\n",
        "\n",
        "X_train, X_test, y_train, y_test = train_test_split(X, y, test_size=0.25, random_state=42)\n",
        "\n",
        "# Print the shapes of the training and testing sets\n",
        "print('Shape of X_train:', X_train.shape)\n",
        "print('Shape of X_test:', X_test.shape)\n",
        "print('Shape of y_train:', y_train.shape)\n",
        "print('Shape of y_test:', y_test.shape)"
      ]
    },
    {
      "cell_type": "code",
      "execution_count": 22,
      "id": "509fba8c",
      "metadata": {},
      "outputs": [
        {
          "data": {
            "text/html": [
              "<style>#sk-container-id-1 {color: black;background-color: white;}#sk-container-id-1 pre{padding: 0;}#sk-container-id-1 div.sk-toggleable {background-color: white;}#sk-container-id-1 label.sk-toggleable__label {cursor: pointer;display: block;width: 100%;margin-bottom: 0;padding: 0.3em;box-sizing: border-box;text-align: center;}#sk-container-id-1 label.sk-toggleable__label-arrow:before {content: \"▸\";float: left;margin-right: 0.25em;color: #696969;}#sk-container-id-1 label.sk-toggleable__label-arrow:hover:before {color: black;}#sk-container-id-1 div.sk-estimator:hover label.sk-toggleable__label-arrow:before {color: black;}#sk-container-id-1 div.sk-toggleable__content {max-height: 0;max-width: 0;overflow: hidden;text-align: left;background-color: #f0f8ff;}#sk-container-id-1 div.sk-toggleable__content pre {margin: 0.2em;color: black;border-radius: 0.25em;background-color: #f0f8ff;}#sk-container-id-1 input.sk-toggleable__control:checked~div.sk-toggleable__content {max-height: 200px;max-width: 100%;overflow: auto;}#sk-container-id-1 input.sk-toggleable__control:checked~label.sk-toggleable__label-arrow:before {content: \"▾\";}#sk-container-id-1 div.sk-estimator input.sk-toggleable__control:checked~label.sk-toggleable__label {background-color: #d4ebff;}#sk-container-id-1 div.sk-label input.sk-toggleable__control:checked~label.sk-toggleable__label {background-color: #d4ebff;}#sk-container-id-1 input.sk-hidden--visually {border: 0;clip: rect(1px 1px 1px 1px);clip: rect(1px, 1px, 1px, 1px);height: 1px;margin: -1px;overflow: hidden;padding: 0;position: absolute;width: 1px;}#sk-container-id-1 div.sk-estimator {font-family: monospace;background-color: #f0f8ff;border: 1px dotted black;border-radius: 0.25em;box-sizing: border-box;margin-bottom: 0.5em;}#sk-container-id-1 div.sk-estimator:hover {background-color: #d4ebff;}#sk-container-id-1 div.sk-parallel-item::after {content: \"\";width: 100%;border-bottom: 1px solid gray;flex-grow: 1;}#sk-container-id-1 div.sk-label:hover label.sk-toggleable__label {background-color: #d4ebff;}#sk-container-id-1 div.sk-serial::before {content: \"\";position: absolute;border-left: 1px solid gray;box-sizing: border-box;top: 0;bottom: 0;left: 50%;z-index: 0;}#sk-container-id-1 div.sk-serial {display: flex;flex-direction: column;align-items: center;background-color: white;padding-right: 0.2em;padding-left: 0.2em;position: relative;}#sk-container-id-1 div.sk-item {position: relative;z-index: 1;}#sk-container-id-1 div.sk-parallel {display: flex;align-items: stretch;justify-content: center;background-color: white;position: relative;}#sk-container-id-1 div.sk-item::before, #sk-container-id-1 div.sk-parallel-item::before {content: \"\";position: absolute;border-left: 1px solid gray;box-sizing: border-box;top: 0;bottom: 0;left: 50%;z-index: -1;}#sk-container-id-1 div.sk-parallel-item {display: flex;flex-direction: column;z-index: 1;position: relative;background-color: white;}#sk-container-id-1 div.sk-parallel-item:first-child::after {align-self: flex-end;width: 50%;}#sk-container-id-1 div.sk-parallel-item:last-child::after {align-self: flex-start;width: 50%;}#sk-container-id-1 div.sk-parallel-item:only-child::after {width: 0;}#sk-container-id-1 div.sk-dashed-wrapped {border: 1px dashed gray;margin: 0 0.4em 0.5em 0.4em;box-sizing: border-box;padding-bottom: 0.4em;background-color: white;}#sk-container-id-1 div.sk-label label {font-family: monospace;font-weight: bold;display: inline-block;line-height: 1.2em;}#sk-container-id-1 div.sk-label-container {text-align: center;}#sk-container-id-1 div.sk-container {/* jupyter's `normalize.less` sets `[hidden] { display: none; }` but bootstrap.min.css set `[hidden] { display: none !important; }` so we also need the `!important` here to be able to override the default hidden behavior on the sphinx rendered scikit-learn.org. See: https://github.com/scikit-learn/scikit-learn/issues/21755 */display: inline-block !important;position: relative;}#sk-container-id-1 div.sk-text-repr-fallback {display: none;}</style><div id=\"sk-container-id-1\" class=\"sk-top-container\"><div class=\"sk-text-repr-fallback\"><pre>DecisionTreeClassifier(max_depth=2, random_state=42)</pre><b>In a Jupyter environment, please rerun this cell to show the HTML representation or trust the notebook. <br />On GitHub, the HTML representation is unable to render, please try loading this page with nbviewer.org.</b></div><div class=\"sk-container\" hidden><div class=\"sk-item\"><div class=\"sk-estimator sk-toggleable\"><input class=\"sk-toggleable__control sk-hidden--visually\" id=\"sk-estimator-id-1\" type=\"checkbox\" checked><label for=\"sk-estimator-id-1\" class=\"sk-toggleable__label sk-toggleable__label-arrow\">DecisionTreeClassifier</label><div class=\"sk-toggleable__content\"><pre>DecisionTreeClassifier(max_depth=2, random_state=42)</pre></div></div></div></div></div>"
            ],
            "text/plain": [
              "DecisionTreeClassifier(max_depth=2, random_state=42)"
            ]
          },
          "execution_count": 22,
          "metadata": {},
          "output_type": "execute_result"
        }
      ],
      "source": [
        "# Exercise 18\n",
        "# Import necessary libraries, create a DecisionTreeClassifier model and train the classifier\n",
        "from sklearn.tree import DecisionTreeClassifier\n",
        "from sklearn.metrics import accuracy_score\n",
        "\n",
        "clf = DecisionTreeClassifier(max_depth=2, random_state=42)\n",
        "\n",
        "clf.fit(X_train, y_train)"
      ]
    },
    {
      "cell_type": "markdown",
      "id": "e0728db4",
      "metadata": {},
      "source": [
        "After training the model, we make predictions on the test set and evaluate its performance using metrics like accuracy, precision, recall, or F1 score. The choice of evaluation metric depends on the specific problem and the nature of the dataset."
      ]
    },
    {
      "cell_type": "code",
      "execution_count": 23,
      "id": "d5bac1d4",
      "metadata": {},
      "outputs": [
        {
          "name": "stdout",
          "output_type": "stream",
          "text": [
            "Accuracy: 0.60879602908923\n"
          ]
        }
      ],
      "source": [
        "# Exercise 19\n",
        "# Make predictions on the test set and evaluate the model\n",
        "y_pred = clf.predict(X_test)\n",
        "\n",
        "accuracy = accuracy_score(y_test, y_pred)\n",
        "print('Accuracy:', accuracy)"
      ]
    },
    {
      "cell_type": "markdown",
      "id": "8a692491",
      "metadata": {},
      "source": [
        "## Tree Visualization<a name=\"tree-visualization\"></a>\n",
        "\n",
        "Decision Trees can be visualized to gain insights into how the model makes decisions. In this section, we will visualize the Decision Tree classifier we built earlier using the scikit-learn and Graphviz libraries.\n",
        "\n",
        "To get started, make sure you have Graphviz installed. You can install it using the following command:\n",
        "\n",
        "```python\n",
        "!pip install graphviz\n",
        "```\n",
        "\n",
        "Once Graphviz is installed, we can visualize the Decision Tree as follows:\n",
        "\n",
        "```python\n",
        "# Export the decision tree to a dot file\n",
        "from sklearn.tree import export_graphviz\n",
        "dot_data = tree.export_graphviz(clf, out_file=None,feature_names=X.columns,class_names=[\"Yes\", \"No\"],filled=True, rounded=True,special_characters=True) \n",
        "\n",
        "\n",
        "# Convert the dot file to a PNG file\n",
        "import graphviz\n",
        "graph = graphviz.Source(dot_data)  \n",
        "graph\n",
        "```"
      ]
    },
    {
      "cell_type": "code",
      "execution_count": 25,
      "id": "b5a234fc",
      "metadata": {},
      "outputs": [
        {
          "data": {
            "image/svg+xml": [
              "<?xml version=\"1.0\" encoding=\"UTF-8\" standalone=\"no\"?>\n",
              "<!DOCTYPE svg PUBLIC \"-//W3C//DTD SVG 1.1//EN\"\n",
              " \"http://www.w3.org/Graphics/SVG/1.1/DTD/svg11.dtd\">\n",
              "<!-- Generated by graphviz version 2.50.0 (0)\n",
              " -->\n",
              "<!-- Title: Tree Pages: 1 -->\n",
              "<svg width=\"745pt\" height=\"314pt\"\n",
              " viewBox=\"0.00 0.00 744.50 314.00\" xmlns=\"http://www.w3.org/2000/svg\" xmlns:xlink=\"http://www.w3.org/1999/xlink\">\n",
              "<g id=\"graph0\" class=\"graph\" transform=\"scale(1 1) rotate(0) translate(4 310)\">\n",
              "<title>Tree</title>\n",
              "<polygon fill=\"white\" stroke=\"transparent\" points=\"-4,4 -4,-310 740.5,-310 740.5,4 -4,4\"/>\n",
              "<!-- 0 -->\n",
              "<g id=\"node1\" class=\"node\">\n",
              "<title>0</title>\n",
              "<path fill=\"#fffffe\" stroke=\"black\" d=\"M452.5,-306C452.5,-306 291.5,-306 291.5,-306 285.5,-306 279.5,-300 279.5,-294 279.5,-294 279.5,-235 279.5,-235 279.5,-229 285.5,-223 291.5,-223 291.5,-223 452.5,-223 452.5,-223 458.5,-223 464.5,-229 464.5,-235 464.5,-235 464.5,-294 464.5,-294 464.5,-300 458.5,-306 452.5,-306\"/>\n",
              "<text text-anchor=\"start\" x=\"323.5\" y=\"-290.8\" font-family=\"Helvetica,sans-Serif\" font-size=\"14.00\">age ≤ 54.922</text>\n",
              "<text text-anchor=\"start\" x=\"337\" y=\"-275.8\" font-family=\"Helvetica,sans-Serif\" font-size=\"14.00\">gini = 0.5</text>\n",
              "<text text-anchor=\"start\" x=\"310\" y=\"-260.8\" font-family=\"Helvetica,sans-Serif\" font-size=\"14.00\">samples = 51975</text>\n",
              "<text text-anchor=\"start\" x=\"287.5\" y=\"-245.8\" font-family=\"Helvetica,sans-Serif\" font-size=\"14.00\">value = [26025, 25950]</text>\n",
              "<text text-anchor=\"start\" x=\"332.5\" y=\"-230.8\" font-family=\"Helvetica,sans-Serif\" font-size=\"14.00\">class = Yes</text>\n",
              "</g>\n",
              "<!-- 1 -->\n",
              "<g id=\"node2\" class=\"node\">\n",
              "<title>1</title>\n",
              "<path fill=\"#f7d9c3\" stroke=\"black\" d=\"M353.5,-187C353.5,-187 192.5,-187 192.5,-187 186.5,-187 180.5,-181 180.5,-175 180.5,-175 180.5,-116 180.5,-116 180.5,-110 186.5,-104 192.5,-104 192.5,-104 353.5,-104 353.5,-104 359.5,-104 365.5,-110 365.5,-116 365.5,-116 365.5,-175 365.5,-175 365.5,-181 359.5,-187 353.5,-187\"/>\n",
              "<text text-anchor=\"start\" x=\"224.5\" y=\"-171.8\" font-family=\"Helvetica,sans-Serif\" font-size=\"14.00\">bmi ≤ 27.438</text>\n",
              "<text text-anchor=\"start\" x=\"229\" y=\"-156.8\" font-family=\"Helvetica,sans-Serif\" font-size=\"14.00\">gini = 0.484</text>\n",
              "<text text-anchor=\"start\" x=\"211\" y=\"-141.8\" font-family=\"Helvetica,sans-Serif\" font-size=\"14.00\">samples = 28785</text>\n",
              "<text text-anchor=\"start\" x=\"188.5\" y=\"-126.8\" font-family=\"Helvetica,sans-Serif\" font-size=\"14.00\">value = [16940, 11845]</text>\n",
              "<text text-anchor=\"start\" x=\"233.5\" y=\"-111.8\" font-family=\"Helvetica,sans-Serif\" font-size=\"14.00\">class = Yes</text>\n",
              "</g>\n",
              "<!-- 0&#45;&gt;1 -->\n",
              "<g id=\"edge1\" class=\"edge\">\n",
              "<title>0&#45;&gt;1</title>\n",
              "<path fill=\"none\" stroke=\"black\" d=\"M337.65,-222.91C329.97,-213.83 321.76,-204.12 313.84,-194.77\"/>\n",
              "<polygon fill=\"black\" stroke=\"black\" points=\"316.42,-192.39 307.29,-187.02 311.07,-196.92 316.42,-192.39\"/>\n",
              "<text text-anchor=\"middle\" x=\"305.21\" y=\"-208.23\" font-family=\"Helvetica,sans-Serif\" font-size=\"14.00\">True</text>\n",
              "</g>\n",
              "<!-- 4 -->\n",
              "<g id=\"node5\" class=\"node\">\n",
              "<title>4</title>\n",
              "<path fill=\"#b9dcf6\" stroke=\"black\" d=\"M547,-187C547,-187 395,-187 395,-187 389,-187 383,-181 383,-175 383,-175 383,-116 383,-116 383,-110 389,-104 395,-104 395,-104 547,-104 547,-104 553,-104 559,-110 559,-116 559,-116 559,-175 559,-175 559,-181 553,-187 547,-187\"/>\n",
              "<text text-anchor=\"start\" x=\"427\" y=\"-171.8\" font-family=\"Helvetica,sans-Serif\" font-size=\"14.00\">bmi ≤ 27.75</text>\n",
              "<text text-anchor=\"start\" x=\"427\" y=\"-156.8\" font-family=\"Helvetica,sans-Serif\" font-size=\"14.00\">gini = 0.477</text>\n",
              "<text text-anchor=\"start\" x=\"409\" y=\"-141.8\" font-family=\"Helvetica,sans-Serif\" font-size=\"14.00\">samples = 23190</text>\n",
              "<text text-anchor=\"start\" x=\"391\" y=\"-126.8\" font-family=\"Helvetica,sans-Serif\" font-size=\"14.00\">value = [9085, 14105]</text>\n",
              "<text text-anchor=\"start\" x=\"433.5\" y=\"-111.8\" font-family=\"Helvetica,sans-Serif\" font-size=\"14.00\">class = No</text>\n",
              "</g>\n",
              "<!-- 0&#45;&gt;4 -->\n",
              "<g id=\"edge4\" class=\"edge\">\n",
              "<title>0&#45;&gt;4</title>\n",
              "<path fill=\"none\" stroke=\"black\" d=\"M406.35,-222.91C414.03,-213.83 422.24,-204.12 430.16,-194.77\"/>\n",
              "<polygon fill=\"black\" stroke=\"black\" points=\"432.93,-196.92 436.71,-187.02 427.58,-192.39 432.93,-196.92\"/>\n",
              "<text text-anchor=\"middle\" x=\"438.79\" y=\"-208.23\" font-family=\"Helvetica,sans-Serif\" font-size=\"14.00\">False</text>\n",
              "</g>\n",
              "<!-- 2 -->\n",
              "<g id=\"node3\" class=\"node\">\n",
              "<title>2</title>\n",
              "<path fill=\"#f2c29f\" stroke=\"black\" d=\"M164,-68C164,-68 12,-68 12,-68 6,-68 0,-62 0,-56 0,-56 0,-12 0,-12 0,-6 6,0 12,0 12,0 164,0 164,0 170,0 176,-6 176,-12 176,-12 176,-56 176,-56 176,-62 170,-68 164,-68\"/>\n",
              "<text text-anchor=\"start\" x=\"44\" y=\"-52.8\" font-family=\"Helvetica,sans-Serif\" font-size=\"14.00\">gini = 0.449</text>\n",
              "<text text-anchor=\"start\" x=\"26\" y=\"-37.8\" font-family=\"Helvetica,sans-Serif\" font-size=\"14.00\">samples = 17830</text>\n",
              "<text text-anchor=\"start\" x=\"8\" y=\"-22.8\" font-family=\"Helvetica,sans-Serif\" font-size=\"14.00\">value = [11764, 6066]</text>\n",
              "<text text-anchor=\"start\" x=\"48.5\" y=\"-7.8\" font-family=\"Helvetica,sans-Serif\" font-size=\"14.00\">class = Yes</text>\n",
              "</g>\n",
              "<!-- 1&#45;&gt;2 -->\n",
              "<g id=\"edge2\" class=\"edge\">\n",
              "<title>1&#45;&gt;2</title>\n",
              "<path fill=\"none\" stroke=\"black\" d=\"M204.38,-103.88C187.39,-93.83 169.25,-83.09 152.47,-73.16\"/>\n",
              "<polygon fill=\"black\" stroke=\"black\" points=\"154.21,-70.12 143.83,-68.04 150.65,-76.15 154.21,-70.12\"/>\n",
              "</g>\n",
              "<!-- 3 -->\n",
              "<g id=\"node4\" class=\"node\">\n",
              "<title>3</title>\n",
              "<path fill=\"#eaf5fc\" stroke=\"black\" d=\"M348.5,-68C348.5,-68 205.5,-68 205.5,-68 199.5,-68 193.5,-62 193.5,-56 193.5,-56 193.5,-12 193.5,-12 193.5,-6 199.5,0 205.5,0 205.5,0 348.5,0 348.5,0 354.5,0 360.5,-6 360.5,-12 360.5,-12 360.5,-56 360.5,-56 360.5,-62 354.5,-68 348.5,-68\"/>\n",
              "<text text-anchor=\"start\" x=\"233\" y=\"-52.8\" font-family=\"Helvetica,sans-Serif\" font-size=\"14.00\">gini = 0.498</text>\n",
              "<text text-anchor=\"start\" x=\"215\" y=\"-37.8\" font-family=\"Helvetica,sans-Serif\" font-size=\"14.00\">samples = 10955</text>\n",
              "<text text-anchor=\"start\" x=\"201.5\" y=\"-22.8\" font-family=\"Helvetica,sans-Serif\" font-size=\"14.00\">value = [5176, 5779]</text>\n",
              "<text text-anchor=\"start\" x=\"239.5\" y=\"-7.8\" font-family=\"Helvetica,sans-Serif\" font-size=\"14.00\">class = No</text>\n",
              "</g>\n",
              "<!-- 1&#45;&gt;3 -->\n",
              "<g id=\"edge3\" class=\"edge\">\n",
              "<title>1&#45;&gt;3</title>\n",
              "<path fill=\"none\" stroke=\"black\" d=\"M274.49,-103.73C274.79,-95.52 275.11,-86.86 275.41,-78.56\"/>\n",
              "<polygon fill=\"black\" stroke=\"black\" points=\"278.92,-78.42 275.78,-68.3 271.92,-78.17 278.92,-78.42\"/>\n",
              "</g>\n",
              "<!-- 5 -->\n",
              "<g id=\"node6\" class=\"node\">\n",
              "<title>5</title>\n",
              "<path fill=\"#daecfa\" stroke=\"black\" d=\"M539.5,-68C539.5,-68 396.5,-68 396.5,-68 390.5,-68 384.5,-62 384.5,-56 384.5,-56 384.5,-12 384.5,-12 384.5,-6 390.5,0 396.5,0 396.5,0 539.5,0 539.5,0 545.5,0 551.5,-6 551.5,-12 551.5,-12 551.5,-56 551.5,-56 551.5,-62 545.5,-68 539.5,-68\"/>\n",
              "<text text-anchor=\"start\" x=\"424\" y=\"-52.8\" font-family=\"Helvetica,sans-Serif\" font-size=\"14.00\">gini = 0.495</text>\n",
              "<text text-anchor=\"start\" x=\"406\" y=\"-37.8\" font-family=\"Helvetica,sans-Serif\" font-size=\"14.00\">samples = 13055</text>\n",
              "<text text-anchor=\"start\" x=\"392.5\" y=\"-22.8\" font-family=\"Helvetica,sans-Serif\" font-size=\"14.00\">value = [5846, 7209]</text>\n",
              "<text text-anchor=\"start\" x=\"430.5\" y=\"-7.8\" font-family=\"Helvetica,sans-Serif\" font-size=\"14.00\">class = No</text>\n",
              "</g>\n",
              "<!-- 4&#45;&gt;5 -->\n",
              "<g id=\"edge5\" class=\"edge\">\n",
              "<title>4&#45;&gt;5</title>\n",
              "<path fill=\"none\" stroke=\"black\" d=\"M469.88,-103.73C469.66,-95.52 469.42,-86.86 469.19,-78.56\"/>\n",
              "<polygon fill=\"black\" stroke=\"black\" points=\"472.68,-78.2 468.91,-68.3 465.69,-78.39 472.68,-78.2\"/>\n",
              "</g>\n",
              "<!-- 6 -->\n",
              "<g id=\"node7\" class=\"node\">\n",
              "<title>6</title>\n",
              "<path fill=\"#96cbf1\" stroke=\"black\" d=\"M724.5,-68C724.5,-68 581.5,-68 581.5,-68 575.5,-68 569.5,-62 569.5,-56 569.5,-56 569.5,-12 569.5,-12 569.5,-6 575.5,0 581.5,0 581.5,0 724.5,0 724.5,0 730.5,0 736.5,-6 736.5,-12 736.5,-12 736.5,-56 736.5,-56 736.5,-62 730.5,-68 724.5,-68\"/>\n",
              "<text text-anchor=\"start\" x=\"609\" y=\"-52.8\" font-family=\"Helvetica,sans-Serif\" font-size=\"14.00\">gini = 0.435</text>\n",
              "<text text-anchor=\"start\" x=\"591\" y=\"-37.8\" font-family=\"Helvetica,sans-Serif\" font-size=\"14.00\">samples = 10135</text>\n",
              "<text text-anchor=\"start\" x=\"577.5\" y=\"-22.8\" font-family=\"Helvetica,sans-Serif\" font-size=\"14.00\">value = [3239, 6896]</text>\n",
              "<text text-anchor=\"start\" x=\"615.5\" y=\"-7.8\" font-family=\"Helvetica,sans-Serif\" font-size=\"14.00\">class = No</text>\n",
              "</g>\n",
              "<!-- 4&#45;&gt;6 -->\n",
              "<g id=\"edge6\" class=\"edge\">\n",
              "<title>4&#45;&gt;6</title>\n",
              "<path fill=\"none\" stroke=\"black\" d=\"M538.51,-103.88C555.07,-93.92 572.74,-83.29 589.13,-73.43\"/>\n",
              "<polygon fill=\"black\" stroke=\"black\" points=\"591.31,-76.2 598.08,-68.04 587.71,-70.2 591.31,-76.2\"/>\n",
              "</g>\n",
              "</g>\n",
              "</svg>\n"
            ],
            "text/plain": [
              "<graphviz.sources.Source at 0x7f3afd8f7a60>"
            ]
          },
          "execution_count": 25,
          "metadata": {},
          "output_type": "execute_result"
        }
      ],
      "source": [
        "# Exercise 20\n",
        "# Visualize the Decision Tree classifier\n",
        "\n",
        "from sklearn.tree import export_graphviz\n",
        "dot_data = export_graphviz(clf, out_file=None,feature_names=X.columns,class_names=[\"Yes\", \"No\"],filled=True, rounded=True,special_characters=True) \n",
        "\n",
        "# Convert the dot file to a PNG file\n",
        "import graphviz\n",
        "graph = graphviz.Source(dot_data)  \n",
        "graph"
      ]
    },
    {
      "cell_type": "markdown",
      "id": "de7aef2e",
      "metadata": {},
      "source": [
        "The Decision Tree visualization provides a clear representation of how the model makes decisions based on the input features. It can be helpful in understanding the decision-making process and identifying important features."
      ]
    },
    {
      "cell_type": "markdown",
      "id": "c0a8e117",
      "metadata": {},
      "source": [
        "## Model Saving using Pickle Library<a name=\"model-saving-using-pickle-library\"></a>\n",
        "\n",
        "Once we have trained a machine learning model, we may want to save it for later use without retraining. The Pickle library in Python allows us to serialize and save Python objects, including machine learning models.\n",
        "\n",
        "To get started, the Pickle library is already available in Python, so there is no need to install it separately.\n",
        "\n",
        "Here's an example of how to save a trained model using Pickle:\n",
        "\n",
        "```python\n",
        "import pickle\n",
        "\n",
        "# Save the trained model to a file\n",
        "with open('model.pkl', 'wb') as file:\n",
        "    pickle.dump(clf, file)\n",
        "```\n",
        "\n",
        "The code above shows how to save the `clf` classifier to a file called 'model.pkl'.\n",
        "\n",
        "Later, we can load the saved model using the following code:\n",
        "\n",
        "```python\n",
        "# Load the saved model from a file\n",
        "with open('model.pkl', 'rb') as file:\n",
        "    loaded_model = pickle.load(file)\n",
        "```"
      ]
    },
    {
      "cell_type": "code",
      "execution_count": null,
      "id": "7ff09ef5",
      "metadata": {},
      "outputs": [],
      "source": [
        "# Exercise 21\n",
        "# Save the trained Decision Tree classifier\n",
        "import pickle\n",
        "\n",
        "# Save the trained model to a file\n",
        "with open('decision_tree.pkl', 'wb') as file:\n",
        "    pickle.dump(clf, file)"
      ]
    },
    {
      "cell_type": "markdown",
      "id": "d10f63c7",
      "metadata": {},
      "source": [
        "The Pickle library provides a convenient way to save and load trained models, allowing us to reuse the models without retraining them."
      ]
    },
    {
      "cell_type": "markdown",
      "id": "b723e29f",
      "metadata": {},
      "source": [
        "Congratulations on completing this Python Data Science Guide! We covered various fundamental topics, including Decision Trees. Feel free to explore more advanced concepts and continue practicing your Python skills.\n",
        "\n",
        "Happy coding!"
      ]
    }
  ],
  "metadata": {
    "kernelspec": {
      "display_name": "Python 3",
      "language": "python",
      "name": "python3"
    },
    "language_info": {
      "codemirror_mode": {
        "name": "ipython",
        "version": 3
      },
      "file_extension": ".py",
      "mimetype": "text/x-python",
      "name": "python",
      "nbconvert_exporter": "python",
      "pygments_lexer": "ipython3",
      "version": "3.10.9"
    }
  },
  "nbformat": 4,
  "nbformat_minor": 5
}
