{
 "cells": [
  {
   "cell_type": "markdown",
   "id": "0334d393",
   "metadata": {},
   "source": [
    "# Python Programming Guide\n",
    "\n",
    "This comprehensive guide will cover various fundamental topics in Python programming. It aims to provide detailed explanations, examples, and code snippets to help you understand and master these concepts. The topics covered in this guide include:\n",
    "\n",
    "1. [Variables and Arithmetic](#variables-and-arithmetic)\n",
    "    - [Exercise 1: Variables](#exercise-1-variables)\n",
    "    - [Exercise 2: Arithmetic Operations](#exercise-2-arithmetic-operations)\n",
    "\n",
    "2. [Functions and Getting Help](#functions-and-getting-help)\n",
    "    - [Exercise 3: Functions](#exercise-3-functions)\n",
    "\n",
    "3. [Data Types](#data-types)\n",
    "    - [Exercise 4: Data Types](#exercise-4-data-types)\n",
    "\n",
    "4. [Conditions and Conditional Statements](#conditions-and-conditional-statements)\n",
    "    - [Exercise 5: Conditions and If Statements](#exercise-5-conditions-and-if-statements)\n",
    "\n",
    "5. [Lists, Sets, and Dictionaries](#lists-sets-and-dictionaries)\n",
    "    - [Exercise 6: Lists](#exercise-6-lists)\n",
    "    - [Exercise 7: Sets](#exercise-7-sets)\n",
    "    - [Exercise 8: Dictionaries](#exercise-8-dictionaries)\n",
    "\n",
    "6. [Loops: while and for, continue, break](#loops-while-and-for-continue-break)\n",
    "    - [Exercise 9: while Loop](#exercise-9-while-loop)\n",
    "    - [Exercise 10: for Loop](#exercise-10-for-loop)\n",
    "\n",
    "7. [Exceptions](#exceptions)\n",
    "    - [Exercise 11: Handling Exceptions](#exercise-11-handling-exceptions)\n",
    "    - [Exercise 12: Raising Exceptions](#exercise-12-raising-exceptions)\n",
    "\n",
    "8. [External Libraries](#external-libraries)\n",
    "    - [Exercise 13: Importing and Using External Libraries](#exercise-13-importing-and-using-external-libraries)\n",
    "\n",
    "9. [Basics of Terminal Commands](#basics-of-terminal-commands)\n",
    "    - [Exercise 14: Navigating Directories](#exercise-14-navigating-directories)\n",
    "    - [Exercise 15: Listing Files and Directories](#exercise-15-listing-files-and-directories)\n",
    "    - [Exercise 16: Creating and Deleting Files/Directories](#exercise-16-creating-and-deleting-filesdirectories)\n",
    "\n",
    "Let's get started!"
   ]
  },
  {
   "cell_type": "markdown",
   "id": "2a84d9e3",
   "metadata": {},
   "source": [
    "## Variables and Arithmetic\n",
    "\n",
    "\n",
    "### Variables\n",
    "In Python, variables are used to store data. They act as containers that hold values of different types, such as numbers, strings, or more complex data structures. To assign a value to a variable, you can use the assignment operator `=`. Here's an example:\n",
    "\n",
    "```python\n",
    "x = 10\n",
    "y = \"Hello, World!\"\n",
    "```\n",
    "\n",
    "#### Exercise 1: Variables\n",
    "Create a variable called `name` and assign it your name as a string. Print the value of the `name` variable."
   ]
  },
  {
   "cell_type": "code",
   "execution_count": 1,
   "id": "5e246f9a",
   "metadata": {},
   "outputs": [
    {
     "name": "stdout",
     "output_type": "stream",
     "text": [
      "John Doe\n"
     ]
    }
   ],
   "source": [
    "name = \"John Doe\"\n",
    "print(name)"
   ]
  },
  {
   "cell_type": "markdown",
   "id": "9c3a8a01",
   "metadata": {},
   "source": [
    "### Arithmetic Operations\n",
    "Python supports various arithmetic operations, including addition (`+`), subtraction (`-`), multiplication (`*`), division (`/`), and exponentiation (`**`). Here are a few examples:\n",
    "\n",
    "```python\n",
    "a = 5\n",
    "b = 2\n",
    "\n",
    "sum = a + b          # Addition\n",
    "difference = a - b   # Subtraction\n",
    "product = a * b      # Multiplication\n",
    "quotient = a / b     # Division\n",
    "exponent = a ** b    # Exponentiation\n",
    "```\n",
    "\n",
    "#### Exercise 2: Arithmetic Operations\n",
    "\n",
    "Perform the following arithmetic operations and print the results:\n",
    "- Add 5 and 3\n",
    "- Subtract 10 from 20\n",
    "- Multiply 7 and 4\n",
    "- Divide 15 by 3\n",
    "- Calculate 2 raised to the power of 5"
   ]
  },
  {
   "cell_type": "code",
   "execution_count": 2,
   "id": "9cc36b16",
   "metadata": {},
   "outputs": [
    {
     "name": "stdout",
     "output_type": "stream",
     "text": [
      "8\n",
      "10\n",
      "28\n",
      "5.0\n",
      "32\n"
     ]
    }
   ],
   "source": [
    "addition = 5 + 3\n",
    "subtraction = 20 - 10\n",
    "multiplication = 7 * 4\n",
    "division = 15 / 3\n",
    "exponentiation = 2 ** 5\n",
    "\n",
    "print(addition)\n",
    "print(subtraction)\n",
    "print(multiplication)\n",
    "print(division)\n",
    "print(exponentiation)"
   ]
  },
  {
   "cell_type": "markdown",
   "id": "52f254d7",
   "metadata": {},
   "source": [
    "## Functions and Getting Help\n",
    "\n",
    "### Functions\n",
    "Functions in Python allow you to encapsulate reusable blocks of code. They take input arguments (if any) and can return a value (or not). You can define your own functions using the `def` keyword. Here's an example of a function that calculates the sum of two numbers:\n",
    "\n",
    "```python\n",
    "def add_numbers(a, b):\n",
    "    sum = a + b\n",
    "    return sum\n",
    "```\n",
    "\n",
    "#### Exercise 3: Functions\n",
    "\n",
    "Create a function called `calculate_area` that takes two parameters: `length` and `width`. The function should calculate the area of a rectangle using the formula: `area = length * width`. Return the calculated area. Call the function with length = 5 and width = 3, and print the result."
   ]
  },
  {
   "cell_type": "code",
   "execution_count": 3,
   "id": "f8662447",
   "metadata": {},
   "outputs": [
    {
     "name": "stdout",
     "output_type": "stream",
     "text": [
      "15\n"
     ]
    }
   ],
   "source": [
    "def calculate_area(length, width):\n",
    "    area = length * width\n",
    "    return area\n",
    "\n",
    "result = calculate_area(5, 3)\n",
    "print(result)"
   ]
  },
  {
   "cell_type": "markdown",
   "id": "a2d14b54",
   "metadata": {},
   "source": [
    "### Getting Help\n",
    "To get help on any Python object or function, you can use the `help()` function or access the documentation using the `__doc__` attribute. For example:\n",
    "\n",
    "```python\n",
    "help(print)           # Get help for the print() function\n",
    "print(print.__doc__)  # Access the documentation for the print() function\n",
    "```\n"
   ]
  },
  {
   "cell_type": "markdown",
   "id": "cee8e293-d590-4f04-9d57-272d854ff7f5",
   "metadata": {
    "tags": []
   },
   "source": [
    "## Data Types\n",
    "\n",
    "### Numeric Types\n",
    "Python supports several numeric types, including integers (`int`), floating-point numbers (`float`), and complex numbers (`complex`). Here's an example:\n",
    "\n",
    "```python\n",
    "# Integer\n",
    "x = 10\n",
    "\n",
    "# Floating-point number\n",
    "y = 3.14\n",
    "\n",
    "# Complex number\n",
    "z = 2 + 3j\n",
    "```\n",
    "\n",
    "### Strings\n",
    "Strings are used to represent text data in Python. You can define strings using either single quotes (`'`) or double quotes (`\"`). Here's an example:\n",
    "\n",
    "```python\n",
    "message = \"Hello, World!\"\n",
    "```\n",
    "\n",
    "You can perform various operations on strings, such as concatenation (`+`), slicing, and accessing individual characters.\n",
    "\n",
    "### Booleans\n",
    "Booleans represent the truth values `True` or `False`. They are often used in conditions and logical operations. Here's an example:\n",
    "\n",
    "```python\n",
    "is_valid = True\n",
    "is_invalid = False\n",
    "```\n",
    "\n",
    "### Lists\n",
    "Lists are ordered collections of items, which can be of different types. You can create a list by enclosing comma-separated values in square brackets (`[]`). Here's an example:\n",
    "\n",
    "```python\n",
    "fruits = [\"apple\", \"banana\", \"cherry\"]\n",
    "```\n",
    "\n",
    "You can access individual items in a list using their index and perform various operations, such as adding or removing items.\n",
    "\n",
    "### Sets\n",
    "Sets are unordered collections of unique elements. You can create a set by enclosing comma-separated values in curly braces (`{}`). Here's an example:\n",
    "\n",
    "```python\n",
    "colors = {\"red\", \"green\", \"blue\"}\n",
    "```\n",
    "\n",
    "Sets support mathematical set operations like union, intersection, and difference.\n",
    "\n",
    "### Dictionaries\n",
    "Dictionaries are unordered collections of key-value pairs. Each value is associated with a unique key, allowing efficient retrieval of data. You can create a dictionary by enclosing key-value pairs in curly braces (`{}`). Here's an example:\n",
    "\n",
    "```python\n",
    "person = {\n",
    "    \"name\": \"John\",\n",
    "    \"age\": 30,\n",
    "    \"city\": \"New York\"\n",
    "}\n",
    "```\n",
    "\n",
    "You can access values by their keys and perform various operations, such as adding or removing key-value pairs."
   ]
  },
  {
   "cell_type": "markdown",
   "id": "3833aa3d-7093-4eec-8ee7-71e4180192ab",
   "metadata": {
    "tags": []
   },
   "source": [
    "#### Exercise 4: Data Types\n",
    "\n",
    "Create variables of different numeric types: an integer, a floating-point number, and a complex number. Print the values of the variables."
   ]
  },
  {
   "cell_type": "code",
   "execution_count": 4,
   "id": "d968cf23",
   "metadata": {},
   "outputs": [
    {
     "name": "stdout",
     "output_type": "stream",
     "text": [
      "10\n",
      "3.14\n",
      "(2+3j)\n"
     ]
    }
   ],
   "source": [
    "x = 10\n",
    "y = 3.14\n",
    "z = 2 + 3j\n",
    "\n",
    "print(x)\n",
    "print(y)\n",
    "print(z)"
   ]
  },
  {
   "cell_type": "markdown",
   "id": "d20de117",
   "metadata": {},
   "source": [
    "## Conditions and Conditional Statements\n",
    "\n",
    "### Conditional Operators\n",
    "Python provides various conditional operators to compare values. These include:\n",
    "- Equal to (`==`)\n",
    "- Not equal to (`!=`)\n",
    "- Greater than (`>`)\n",
    "- Less than (`<`)\n",
    "- Greater than or equal to (`>=`)\n",
    "- Less than or equal to (`<=`)\n",
    "\n",
    "### If Statements\n",
    "If statements allow you to execute different blocks of code based on certain conditions. Here's an example:\n",
    "\n",
    "```python\n",
    "age = 18\n",
    "\n",
    "if age >= 18:\n",
    "    print(\"You are an adult.\")\n",
    "else:\n",
    "    print(\"You are not an adult.\")\n",
    "```\n",
    "\n",
    "You can also use `elif` to specify additional conditions."
   ]
  },
  {
   "cell_type": "markdown",
   "id": "13bffd60",
   "metadata": {},
   "source": [
    "#### Exercise 5: Conditions and If Statements\n",
    "\n",
    "Create a variable called `age` and assign it your age as an integer. Write an if statement to check if the age is greater than or equal to 18. If it is, print \"You are an adult.\"; otherwise, print \"You are not an adult.\"."
   ]
  },
  {
   "cell_type": "code",
   "execution_count": 5,
   "id": "e5c4f67d",
   "metadata": {},
   "outputs": [
    {
     "name": "stdout",
     "output_type": "stream",
     "text": [
      "You are an adult.\n"
     ]
    }
   ],
   "source": [
    "age = 20\n",
    "\n",
    "if age >= 18:\n",
    "    print(\"You are an adult.\")\n",
    "else:\n",
    "    print(\"You are not an adult.\")"
   ]
  },
  {
   "cell_type": "markdown",
   "id": "11665c82",
   "metadata": {},
   "source": [
    "## Lists, Sets, and Dictionaries\n",
    "\n",
    "### Lists\n",
    "Lists are mutable, ordered collections that can store elements of different types. Here are some common operations you can perform on lists:\n",
    "\n",
    "```python\n",
    "fruits = [\"apple\", \"banana\", \"cherry\"]\n",
    "\n",
    "# Accessing elements\n",
    "print(fruits[0])    # Output: apple\n",
    "\n",
    "# Modifying elements\n",
    "fruits[1] = \"pear\"\n",
    "print(fruits)       # Output: ['apple', 'pear', 'cherry']\n",
    "\n",
    "# Adding elements\n",
    "fruits.append(\"orange\")\n",
    "print(fruits)       # Output: ['apple', 'pear', 'cherry', 'orange']\n",
    "\n",
    "# Removing elements\n",
    "fruits.remove(\"apple\")\n",
    "print(fruits)       # Output: ['pear', 'cherry', 'orange']\n",
    "```\n",
    "\n",
    "#### Exercise 6: Lists\n",
    "\n",
    "Create a list called `fruits` with three different fruits as strings. Print the second fruit in the list. Change the third fruit in the list to a new fruit. Add a new fruit to the end of the list. Remove the first fruit from the list."
   ]
  },
  {
   "cell_type": "code",
   "execution_count": 6,
   "id": "f821b916",
   "metadata": {},
   "outputs": [
    {
     "name": "stdout",
     "output_type": "stream",
     "text": [
      "banana\n",
      "['banana', 'pear', 'orange']\n"
     ]
    }
   ],
   "source": [
    "fruits = [\"apple\", \"banana\", \"cherry\"]\n",
    "\n",
    "print(fruits[1])    # Output: banana\n",
    "\n",
    "fruits[2] = \"pear\"\n",
    "\n",
    "fruits.append(\"orange\")\n",
    "\n",
    "fruits.remove(\"apple\")\n",
    "\n",
    "print(fruits)       # Output: ['banana', 'pear', 'orange']"
   ]
  },
  {
   "cell_type": "markdown",
   "id": "3b1f6aea",
   "metadata": {},
   "source": [
    "### Sets\n",
    "Sets are mutable, unordered collections of unique elements. Here are some common operations you can perform on sets:\n",
    "\n",
    "```python\n",
    "colors = {\"red\", \"green\", \"blue\"}\n",
    "\n",
    "# Adding elements\n",
    "colors.add(\"yellow\")\n",
    "print(colors)       # Output: {'red', 'green', 'blue', 'yellow'}\n",
    "\n",
    "# Removing elements\n",
    "colors.remove(\"red\")\n",
    "print(colors)       # Output: {'green', 'blue', 'yellow'}\n",
    "```\n",
    "\n",
    "\n",
    "#### Exercise 7: Sets\n",
    "\n",
    "Create a set called `colors` with three different colors as strings. Add a new color to the set. Remove a color from the set."
   ]
  },
  {
   "cell_type": "code",
   "execution_count": 7,
   "id": "d325870e",
   "metadata": {},
   "outputs": [
    {
     "name": "stdout",
     "output_type": "stream",
     "text": [
      "{'blue', 'green', 'yellow'}\n"
     ]
    }
   ],
   "source": [
    "colors = {\"red\", \"green\", \"blue\"}\n",
    "\n",
    "colors.add(\"yellow\")\n",
    "\n",
    "colors.remove(\"red\")\n",
    "\n",
    "print(colors)       # Output: {'green', 'blue', 'yellow'}"
   ]
  },
  {
   "cell_type": "markdown",
   "id": "82063b03",
   "metadata": {},
   "source": [
    "### Dictionaries\n",
    "Dictionaries are mutable, unordered collections of key-value pairs. Here are some common operations you can perform on dictionaries:\n",
    "\n",
    "```python\n",
    "person = {\n",
    "    \"name\": \"John\",\n",
    "    \"age\": 30,\n",
    "    \"city\": \"New York\"\n",
    "}\n",
    "\n",
    "# Accessing values\n",
    "print(person[\"name\"])   # Output: John\n",
    "\n",
    "# Modifying values\n",
    "person[\"age\"] = 31\n",
    "print(person)           # Output: {'name': 'John', 'age': 31, 'city': 'New York'}\n",
    "\n",
    "# Adding new key-value pairs\n",
    "person[\"gender\"] = \"Male\"\n",
    "print(person)           # Output: {'name':\n",
    "\n",
    " 'John', 'age': 31, 'city': 'New York', 'gender': 'Male'}\n",
    "\n",
    "# Removing key-value pairs\n",
    "del person[\"city\"]\n",
    "print(person)           # Output: {'name': 'John', 'age': 31, 'gender': 'Male'}\n",
    "```\n",
    "\n",
    "\n",
    "#### Exercise 8: Dictionaries\n",
    "\n",
    "Create a dictionary called `person` with the following key-value pairs:\n",
    "- \"name\": your name as a string\n",
    "- \"age\": your age as an integer\n",
    "- \"city\": your city as a string\n",
    "Print the value associated with the \"name\" key. Modify the value associated with the \"age\" key. Add a new key-value pair to the dictionary. Remove the key-value pair with the key \"city\"."
   ]
  },
  {
   "cell_type": "code",
   "execution_count": 8,
   "id": "bee9c4de",
   "metadata": {},
   "outputs": [
    {
     "name": "stdout",
     "output_type": "stream",
     "text": [
      "John\n",
      "{'name': 'John', 'age': 31, 'gender': 'Male'}\n"
     ]
    }
   ],
   "source": [
    "person = {\n",
    "    \"name\": \"John\",\n",
    "    \"age\": 30,\n",
    "    \"city\": \"New York\"\n",
    "}\n",
    "\n",
    "print(person[\"name\"])   # Output: John\n",
    "\n",
    "person[\"age\"] = 31\n",
    "\n",
    "person[\"gender\"] = \"Male\"\n",
    "\n",
    "del person[\"city\"]\n",
    "\n",
    "print(person)           # Output: {'name': 'John', 'age': 31, 'gender': 'Male'}"
   ]
  },
  {
   "cell_type": "markdown",
   "id": "ec40b065",
   "metadata": {},
   "source": [
    "## Loops: while and for, continue, break\n",
    "\n",
    "### while Loop\n",
    "The `while` loop repeatedly executes a block of code as long as a given condition is true. Here's an example:\n",
    "\n",
    "```python\n",
    "count = 0\n",
    "\n",
    "while count < 5:\n",
    "    print(count)\n",
    "    count += 1\n",
    "```\n",
    "\n",
    "#### Exercise 9: while Loop\n",
    "\n",
    "Write a while loop that prints the numbers from 1 to 5 (inclusive)."
   ]
  },
  {
   "cell_type": "code",
   "execution_count": 9,
   "id": "33222665",
   "metadata": {},
   "outputs": [
    {
     "name": "stdout",
     "output_type": "stream",
     "text": [
      "1\n",
      "2\n",
      "3\n",
      "4\n",
      "5\n"
     ]
    }
   ],
   "source": [
    "count = 1\n",
    "\n",
    "while count <= 5:\n",
    "    print(count)\n",
    "    count += 1"
   ]
  },
  {
   "cell_type": "markdown",
   "id": "e5785b47",
   "metadata": {},
   "source": [
    "### for Loop\n",
    "The `for` loop iterates over a sequence of elements. Here's an example:\n",
    "\n",
    "```python\n",
    "fruits = [\"apple\", \"banana\", \"cherry\"]\n",
    "\n",
    "for fruit in fruits:\n",
    "    print(fruit)\n",
    "```\n",
    "\n",
    "#### Exercise 10: for Loop\n",
    "\n",
    "Write a for loop that iterates over the numbers from 1 to 5 (inclusive) and prints each number."
   ]
  },
  {
   "cell_type": "code",
   "execution_count": 10,
   "id": "87a028fc",
   "metadata": {},
   "outputs": [
    {
     "name": "stdout",
     "output_type": "stream",
     "text": [
      "1\n",
      "2\n",
      "3\n",
      "4\n",
      "5\n"
     ]
    }
   ],
   "source": [
    "for number in range(1, 6):\n",
    "    print(number)"
   ]
  },
  {
   "cell_type": "markdown",
   "id": "b460dc6f",
   "metadata": {},
   "source": [
    "### continue and break Statements\n",
    "- The `continue` statement is used to skip the current iteration and move to the next one in the loop.\n",
    "- The `break` statement is used to exit the loop prematurely. It terminates the loop and continues with the next statement after the loop.\n",
    "\n",
    "```python\n",
    "for i in range(10):\n",
    "    if i % 2 == 0:\n",
    "        continue    # Skip even numbers\n",
    "    elif i == 7:\n",
    "        break       # Exit the loop when i is 7\n",
    "    print(i)\n",
    "```\n",
    "\n",
    "#### Exercise 11: continue Statement\n",
    "\n",
    "Write a for loop that iterates over the numbers from 1 to 10 (inclusive) and prints only the odd numbers. Use the `continue` statement to skip even numbers."
   ]
  },
  {
   "cell_type": "code",
   "execution_count": 11,
   "id": "f1f42cb9",
   "metadata": {},
   "outputs": [
    {
     "name": "stdout",
     "output_type": "stream",
     "text": [
      "1\n",
      "3\n",
      "5\n",
      "7\n",
      "9\n"
     ]
    }
   ],
   "source": [
    "for i in range(1, 11):\n",
    "    if i % 2 == 0:\n",
    "        continue\n",
    "    print(i)"
   ]
  },
  {
   "cell_type": "markdown",
   "id": "2d6bbf71",
   "metadata": {},
   "source": [
    "## Exceptions\n",
    "Exceptions are errors that occur during the execution of a program. You can handle exceptions using the `try-except` block. Here's an example:\n",
    "\n",
    "```python\n",
    "try:\n",
    "    result = 10 / 0\n",
    "    print(result)\n",
    "except ZeroDivisionError:\n",
    "    print(\"Error: Division by zero occurred.\")\n",
    "```\n",
    "\n",
    "#### Exercise 12: Handling Exceptions\n",
    "\n",
    "Write a try-except block to catch a ZeroDivisionError. In the try block, divide a number by zero. In the except block, print an error message."
   ]
  },
  {
   "cell_type": "code",
   "execution_count": 12,
   "id": "61b40faf",
   "metadata": {},
   "outputs": [
    {
     "name": "stdout",
     "output_type": "stream",
     "text": [
      "Error: Division by zero occurred.\n"
     ]
    }
   ],
   "source": [
    "try:\n",
    "    result = 10 / 0\n",
    "    print(result)\n",
    "except ZeroDivisionError:\n",
    "    print(\"Error: Division by zero occurred.\")"
   ]
  },
  {
   "cell_type": "markdown",
   "id": "cb2bcc0e",
   "metadata": {},
   "source": [
    "### Raising Exceptions\n",
    "You can raise exceptions manually using the `raise` statement. Here's an example:\n",
    "\n",
    "```python\n",
    "age = -5\n",
    "\n",
    "if age < 0:\n",
    "    raise ValueError(\"Age cannot be negative.\")\n",
    "```\n",
    "\n",
    "#### Exercise 13: Raising Exceptions\n",
    "\n",
    "Write code that raises a `ValueError` exception with an appropriate error message when a negative number is encountered. Test it with a negative number."
   ]
  },
  {
   "cell_type": "code",
   "execution_count": 13,
   "id": "99c0a0d8",
   "metadata": {},
   "outputs": [
    {
     "ename": "ValueError",
     "evalue": "Age cannot be negative.",
     "output_type": "error",
     "traceback": [
      "\u001b[0;31m---------------------------------------------------------------------------\u001b[0m",
      "\u001b[0;31mValueError\u001b[0m                                Traceback (most recent call last)",
      "Cell \u001b[0;32mIn[13], line 4\u001b[0m\n\u001b[1;32m      1\u001b[0m age \u001b[38;5;241m=\u001b[39m \u001b[38;5;241m-\u001b[39m\u001b[38;5;241m5\u001b[39m\n\u001b[1;32m      3\u001b[0m \u001b[38;5;28;01mif\u001b[39;00m age \u001b[38;5;241m<\u001b[39m \u001b[38;5;241m0\u001b[39m:\n\u001b[0;32m----> 4\u001b[0m     \u001b[38;5;28;01mraise\u001b[39;00m \u001b[38;5;167;01mValueError\u001b[39;00m(\u001b[38;5;124m\"\u001b[39m\u001b[38;5;124mAge cannot be negative.\u001b[39m\u001b[38;5;124m\"\u001b[39m)\n",
      "\u001b[0;31mValueError\u001b[0m: Age cannot be negative."
     ]
    }
   ],
   "source": [
    "age = -5\n",
    "\n",
    "if age < 0:\n",
    "    raise ValueError(\"Age cannot be negative.\")"
   ]
  },
  {
   "cell_type": "markdown",
   "id": "3763be82",
   "metadata": {},
   "source": [
    "## External Libraries\n",
    "\n",
    "### Installing External Libraries\n",
    "To use external libraries in Python, you need to install them. The most common way to install libraries is using the package manager `pip`. For example, to install the `requests` library, you can run the following command in your terminal:\n",
    "\n",
    "```\n",
    "pip install requests\n",
    "```\n",
    "\n",
    "### Importing External Libraries\n",
    "Once a library is installed, you can import it into your Python code using the `import` statement. Here's an example:\n",
    "\n",
    "```python\n",
    "import requests\n",
    "\n",
    "response = requests.get(\"https://www.example.com\")\n",
    "print(response.status_code)\n",
    "```\n",
    "\n",
    "#### Exercise 14: Importing and Using External Libraries\n",
    "\n",
    "Import the `math` module. Use the `math.sqrt()` function to calculate the square root of 16. Print the result."
   ]
  },
  {
   "cell_type": "code",
   "execution_count": null,
   "id": "bc75dab6",
   "metadata": {},
   "outputs": [],
   "source": [
    "import math\n",
    "\n",
    "result = math.sqrt(16)\n",
    "print(result)"
   ]
  },
  {
   "cell_type": "markdown",
   "id": "3f469b97",
   "metadata": {},
   "source": [
    "## Basics of Terminal Commands\n",
    "\n",
    "### Running Python Files\n",
    "To run a Python file, open your terminal or command prompt and navigate to the directory where the file is located. Then, use the `python` command followed by the file name and its extension. For example:\n",
    "\n",
    "```\n",
    "python my_script.py\n",
    "```\n",
    "\n",
    "### Navigating Directories\n",
    "- `cd directory_name` - Change to a specific directory.\n",
    "- `cd ..` - Move up to the parent directory.\n",
    "- `cd /` - Move to the root directory.\n",
    "\n",
    "#### Exercise 15: Navigating Directories\n",
    "\n",
    "Open your terminal or command prompt and navigate to a different directory using the `cd` command."
   ]
  },
  {
   "cell_type": "markdown",
   "id": "bf7cfce5",
   "metadata": {},
   "source": [
    "### Listing Files and Directories\n",
    "- `ls` - List files and directories in the current directory.\n",
    "- `ls -l` - List files and directories with detailed information.\n",
    "- `ls -a` - List all files and directories, including hidden ones.\n",
    "\n",
    "#### Exercise 16: Listing Files and Directories\n",
    "\n",
    "Open your terminal or command prompt and list the files and directories in the current directory using the `ls` command."
   ]
  },
  {
   "cell_type": "markdown",
   "id": "80257fe3",
   "metadata": {},
   "source": [
    "### Creating and Deleting Files/Directories\n",
    "- `touch file_name` - Create an empty file.\n",
    "- `mkdir directory_name` - Create a new directory.\n",
    "- `rm file_name` - Delete a file.\n",
    "- `rmdir directory_name` - Delete an empty directory.\n",
    "\n",
    "#### Exercise 17: Creating and Deleting Files/Directories\n",
    "\n",
    "Open your terminal or command prompt and create an empty file using the `touch` command. Then, delete the file using the `rm` command."
   ]
  },
  {
   "cell_type": "markdown",
   "id": "be9a64d6",
   "metadata": {},
   "source": [
    "Congratulations on completing the exercises! You now have a good understanding of the covered topics. Feel free to explore more advanced concepts and continue practicing your Python skills.\n",
    "\n",
    "Happy coding!"
   ]
  },
  {
   "cell_type": "code",
   "execution_count": null,
   "id": "e7e1a3c7-8b48-4552-bf81-a448fdc59395",
   "metadata": {},
   "outputs": [],
   "source": []
  }
 ],
 "metadata": {
  "kernelspec": {
   "display_name": "Python 3 (ipykernel)",
   "language": "python",
   "name": "python3"
  },
  "language_info": {
   "codemirror_mode": {
    "name": "ipython",
    "version": 3
   },
   "file_extension": ".py",
   "mimetype": "text/x-python",
   "name": "python",
   "nbconvert_exporter": "python",
   "pygments_lexer": "ipython3",
   "version": "3.10.9"
  }
 },
 "nbformat": 4,
 "nbformat_minor": 5
}
