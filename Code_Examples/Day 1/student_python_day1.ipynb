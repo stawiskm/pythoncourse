{
 "cells": [
  {
   "cell_type": "markdown",
   "id": "28769844",
   "metadata": {},
   "source": [
    "# Python Programming Guide\n",
    "\n",
    "This comprehensive guide will cover various fundamental topics in Python programming. It aims to provide detailed explanations, examples, and code snippets to help you understand and master these concepts. The topics covered in this guide include:\n",
    "\n",
    "1. [Variables and Arithmetic](#variables-and-arithmetic)\n",
    "    - [Exercise 1: Variables](#exercise-1-variables)\n",
    "    - [Exercise 2: Arithmetic Operations](#exercise-2-arithmetic-operations)\n",
    "\n",
    "2. [Functions and Getting Help](#functions-and-getting-help)\n",
    "    - [Exercise 3: Functions](#exercise-3-functions)\n",
    "\n",
    "3. [Data Types](#data-types)\n",
    "    - [Exercise 4: Data Types](#exercise-4-data-types)\n",
    "\n",
    "4. [Conditions and Conditional Statements](#conditions-and-conditional-statements)\n",
    "    - [Exercise 5: Conditions and If Statements](#exercise-5-conditions-and-if-statements)\n",
    "\n",
    "5. [Lists, Sets, and Dictionaries](#lists-sets-and-dictionaries)\n",
    "    - [Exercise 6: Lists](#exercise-6-lists)\n",
    "    - [Exercise 7: Sets](#exercise-7-sets)\n",
    "    - [Exercise 8: Dictionaries](#exercise-8-dictionaries)\n",
    "\n",
    "6. [Loops: while and for, continue, break](#loops-while-and-for-continue-break)\n",
    "    - [Exercise 9: while Loop](#exercise-9-while-loop)\n",
    "    - [Exercise 10: for Loop](#exercise-10-for-loop)\n",
    "\n",
    "7. [Exceptions](#exceptions)\n",
    "    - [Exercise 11: Handling Exceptions](#exercise-11-handling-exceptions)\n",
    "    - [Exercise 12: Raising Exceptions](#exercise-12-raising-exceptions)\n",
    "\n",
    "8. [External Libraries](#external-libraries)\n",
    "    - [Exercise 13: Importing and Using External Libraries](#exercise-13-importing-and-using-external-libraries)\n",
    "\n",
    "9. [Basics of Terminal Commands](#basics-of-terminal-commands)\n",
    "    - [Exercise 14: Navigating Directories](#exercise-14-navigating-directories)\n",
    "    - [Exercise 15: Listing Files and Directories](#exercise-15-listing-files-and-directories)\n",
    "    - [Exercise 16: Creating and Deleting Files/Directories](#exercise-16-creating-and-deleting-filesdirectories)\n",
    "\n",
    "Let's get started!"
   ]
  },
  {
   "cell_type": "markdown",
   "id": "737a3c00",
   "metadata": {},
   "source": [
    "## Variables and Arithmetic\n",
    "\n",
    "### Variables\n",
    "In Python, variables are used to store data. They act as containers that hold values of different types, such as numbers, strings, or more complex data structures. To assign a value to a variable, you can use the assignment operator `=`. Here's an example:\n",
    "\n",
    "```python\n",
    "x = 10\n",
    "y = \"Hello, World!\"\n",
    "```\n",
    "\n",
    "#### Exercise 1: Variables\n",
    "\n",
    "Create a variable called `name` and assign it your name as a string. Print the value of the `name` variable."
   ]
  },
  {
   "cell_type": "code",
   "execution_count": 1,
   "id": "cab612f8",
   "metadata": {},
   "outputs": [],
   "source": [
    "# TODO: Create a variable called `name` and assign it your name as a string\n",
    "\n",
    "# TODO: Print the value of the `name` variable"
   ]
  },
  {
   "cell_type": "markdown",
   "id": "d41a5619",
   "metadata": {},
   "source": [
    "### Arithmetic Operations\n",
    "Python supports various arithmetic operations, including addition (`+`), subtraction (`-`), multiplication (`*`), division (`/`), and exponentiation (`**`). Here are a few examples:\n",
    "\n",
    "```python\n",
    "a = 5\n",
    "b = 2\n",
    "\n",
    "sum = a + b          # Addition\n",
    "difference = a - b   # Subtraction\n",
    "product = a * b      # Multiplication\n",
    "quotient = a / b     # Division\n",
    "exponent = a ** b    # Exponentiation\n",
    "```\n",
    "\n",
    "#### Exercise 2: Arithmetic Operations\n",
    "\n",
    "Perform the following arithmetic operations and print the results:\n",
    "- Add 5 and 3\n",
    "- Subtract 10 from 20\n",
    "- Multiply 7 and 4\n",
    "- Divide 15 by 3\n",
    "- Calculate 2 raised to the power of 5"
   ]
  },
  {
   "cell_type": "code",
   "execution_count": 2,
   "id": "bb0c34af",
   "metadata": {},
   "outputs": [],
   "source": [
    "# TODO: Perform the arithmetic operations and print the results\n",
    "\n",
    "# TODO: Add 5 and 3\n",
    "\n",
    "# TODO: Subtract 10 from 20\n",
    "\n",
    "# TODO: Multiply 7 and 4\n",
    "\n",
    "# TODO: Divide 15 by 3\n",
    "\n",
    "# TODO: Calculate 2 raised to the power of 5"
   ]
  },
  {
   "cell_type": "markdown",
   "id": "05b85c07",
   "metadata": {},
   "source": [
    "## Functions and Getting Help\n",
    "\n",
    "### Functions\n",
    "Functions in Python allow you to encapsulate reusable blocks of code. They take input arguments (if any) and can return a value (or not). You can define your own functions using the `def` keyword. Here's an example of a function that calculates the sum of two numbers:\n",
    "\n",
    "```python\n",
    "def add_numbers(a, b):\n",
    "    sum = a + b\n",
    "    return sum\n",
    "\n",
    "result = add_numbers(5, 3)\n",
    "print(result)  # Output: 8\n",
    "```\n",
    "\n",
    "#### Exercise 3: Functions\n",
    "\n",
    "Create a function called `calculate_area` that takes two arguments: `length` and `width`. The function should calculate and return the area of a rectangle using the formula `area = length * width`. Call the function with `length = 5` and `width = 3`, and print the result."
   ]
  },
  {
   "cell_type": "code",
   "execution_count": 3,
   "id": "cc2ca762",
   "metadata": {},
   "outputs": [],
   "source": [
    "# TODO: Create a function called `calculate_area` that takes `length` and `width` as arguments\n",
    "\n",
    "# TODO: Inside the function, calculate the area using the formula `area = length * width`\n",
    "\n",
    "# TODO: Call the function with length = 5 and width = 3, and print the result"
   ]
  },
  {
   "cell_type": "markdown",
   "id": "5ecc3f29",
   "metadata": {},
   "source": [
    "### Getting Help\n",
    "To get help on any Python object or function, you can use the `help()` function or access the documentation using the `__doc__` attribute. For example:\n",
    "\n",
    "```python\n",
    "help(print)           # Get help for the print() function\n",
    "print(print.__doc__)  # Access the documentation for the print() function\n",
    "```\n"
   ]
  },
  {
   "cell_type": "markdown",
   "id": "b2c58222",
   "metadata": {
    "tags": []
   },
   "source": [
    "## Data Types\n",
    "\n",
    "### Numeric Types\n",
    "Python supports several numeric types, including integers (`int`), floating-point numbers (`float`), and complex numbers (`complex`). Here's an example:\n",
    "\n",
    "```python\n",
    "# Integer\n",
    "x = 10\n",
    "\n",
    "# Floating-point number\n",
    "y = 3.14\n",
    "\n",
    "# Complex number\n",
    "z = 2 + 3j\n",
    "```\n",
    "\n",
    "### Strings\n",
    "Strings are used to represent text data in Python. You can define strings using either single quotes (`'`) or double quotes (`\"`). Here's an example:\n",
    "\n",
    "```python\n",
    "message = \"Hello, World!\"\n",
    "```\n",
    "\n",
    "You can perform various operations on strings, such as concatenation (`+`), slicing, and accessing individual characters.\n",
    "\n",
    "### Booleans\n",
    "Booleans represent the truth values `True` or `False`. They are often used in conditions and logical operations. Here's an example:\n",
    "\n",
    "```python\n",
    "is_valid = True\n",
    "is_invalid = False\n",
    "```\n",
    "\n",
    "### Lists\n",
    "Lists are ordered collections of items, which can be of different types. You can create a list by enclosing comma-separated values in square brackets (`[]`). Here's an example:\n",
    "\n",
    "```python\n",
    "fruits = [\"apple\", \"banana\", \"cherry\"]\n",
    "```\n",
    "\n",
    "You can access individual items in a list using their index and perform various operations, such as adding or removing items.\n",
    "\n",
    "### Sets\n",
    "Sets are unordered collections of unique elements. You can create a set by enclosing comma-separated values in curly braces (`{}`). Here's an example:\n",
    "\n",
    "```python\n",
    "colors = {\"red\", \"green\", \"blue\"}\n",
    "```\n",
    "\n",
    "Sets support mathematical set operations like union, intersection, and difference.\n",
    "\n",
    "### Dictionaries\n",
    "Dictionaries are unordered collections of key-value pairs. Each value is associated with a unique key, allowing efficient retrieval of data. You can create a dictionary by enclosing key-value pairs in curly braces (`{}`). Here's an example:\n",
    "\n",
    "```python\n",
    "person = {\n",
    "    \"name\": \"John\",\n",
    "    \"age\": 30,\n",
    "    \"city\": \"New York\"\n",
    "}\n",
    "```\n",
    "\n",
    "You can access values by their keys and perform various operations, such as adding or removing key-value pairs."
   ]
  },
  {
   "cell_type": "markdown",
   "id": "83af47d0-52f0-4dbe-b7dd-9786e36d792f",
   "metadata": {
    "tags": []
   },
   "source": [
    "#### Exercise 4: Data Types\n",
    "\n",
    "Create variables of different numeric types: an integer, a floating-point number, and a complex number. Print the values of the variables."
   ]
  },
  {
   "cell_type": "code",
   "execution_count": 4,
   "id": "c2c6005f",
   "metadata": {},
   "outputs": [],
   "source": [
    "# TODO: Create variables of different numeric types: an integer, a floating-point number, and a complex number\n",
    "\n",
    "# TODO: Print the values of the variables"
   ]
  },
  {
   "cell_type": "markdown",
   "id": "0399644c",
   "metadata": {},
   "source": [
    "## Conditions and Conditional Statements\n",
    "\n",
    "### Conditional Operators\n",
    "Python provides various conditional operators to compare values. These include:\n",
    "- Equal to (`==`)\n",
    "- Not equal to (`!=`)\n",
    "- Greater than (`>`)\n",
    "- Less than (`<`)\n",
    "- Greater than or equal to (`>=`)\n",
    "- Less than or equal to (`<=`)\n",
    "\n",
    "### If Statements\n",
    "If statements allow you to execute different blocks of code based on certain conditions. Here's an example:\n",
    "\n",
    "```python\n",
    "age = 18\n",
    "\n",
    "if age >= 18:\n",
    "    print(\"You are an adult.\")\n",
    "else:\n",
    "    print(\"You are not an adult.\")\n",
    "```\n",
    "\n",
    "You can also use `elif` to specify additional conditions."
   ]
  },
  {
   "cell_type": "markdown",
   "id": "8ebf946a",
   "metadata": {},
   "source": [
    "#### Exercise 5: Conditions and If Statements\n",
    "\n",
    "Create a variable called `age` and assign it your age as an integer. Write an if statement to check if the age is greater than or equal to 18. If it is, print \"You are an adult.\"; otherwise, print \"You are not an adult.\"."
   ]
  },
  {
   "cell_type": "code",
   "execution_count": 5,
   "id": "8216b044",
   "metadata": {},
   "outputs": [],
   "source": [
    "# TODO: Create a variable called `age` and assign it your age as an integer\n",
    "\n",
    "# TODO: Write an if statement to check if the age is greater than or equal to 18\n",
    "#       If it is, print \"You are an adult.\"; otherwise, print \"You are not an adult.\""
   ]
  },
  {
   "cell_type": "markdown",
   "id": "bb1197de",
   "metadata": {},
   "source": [
    "## Lists, Sets, and Dictionaries\n",
    "\n",
    "### Lists\n",
    "Lists are mutable, ordered collections that can store elements of different types. Here are some common operations you can perform on lists:\n",
    "\n",
    "```python\n",
    "fruits = [\"apple\", \"banana\", \"cherry\"]\n",
    "\n",
    "# Accessing elements\n",
    "print(fruits[0])    # Output: apple\n",
    "\n",
    "# Modifying elements\n",
    "fruits[1] = \"pear\"\n",
    "print(fruits)       # Output: ['apple', 'pear', 'cherry']\n",
    "\n",
    "# Adding elements\n",
    "fruits.append(\"orange\")\n",
    "print(fruits)       # Output: ['apple', 'pear', 'cherry', 'orange']\n",
    "\n",
    "# Removing elements\n",
    "fruits.remove(\"apple\")\n",
    "print(fruits)       # Output: ['pear', 'cherry', 'orange']\n",
    "```\n",
    "\n",
    "#### Exercise 6: Lists\n",
    "\n",
    "Create a list called `fruits` with three different fruits as strings. Print the second fruit in the list. Change the third fruit in the list to a new fruit. Add a new fruit to the end of the list. Remove the first fruit from the list."
   ]
  },
  {
   "cell_type": "code",
   "execution_count": 6,
   "id": "bfcd39bb",
   "metadata": {},
   "outputs": [],
   "source": [
    "# TODO: Create a list called `fruits` with three different fruits as strings\n",
    "\n",
    "# TODO: Print the second fruit in the list\n",
    "\n",
    "# TODO: Change the third fruit in the list to a new fruit\n",
    "\n",
    "# TODO: Add a new fruit to the end of the list\n",
    "\n",
    "# TODO: Remove the first fruit from the list"
   ]
  },
  {
   "cell_type": "markdown",
   "id": "22ead876",
   "metadata": {},
   "source": [
    "### Sets\n",
    "Sets are mutable, unordered collections of unique elements. Here are some common operations you can perform on sets:\n",
    "\n",
    "```python\n",
    "colors = {\"red\", \"green\", \"blue\"}\n",
    "\n",
    "# Adding elements\n",
    "colors.add(\"yellow\")\n",
    "print(colors)       # Output: {'red', 'green', 'blue', 'yellow'}\n",
    "\n",
    "# Removing elements\n",
    "colors.remove(\"red\")\n",
    "print(colors)       # Output: {'green', 'blue', 'yellow'}\n",
    "```\n",
    "\n",
    "\n",
    "#### Exercise 7: Sets\n",
    "\n",
    "Create a set called `colors` with three different colors as strings. Add a new color to the set. Remove a color from the set."
   ]
  },
  {
   "cell_type": "code",
   "execution_count": 7,
   "id": "901c423b",
   "metadata": {},
   "outputs": [],
   "source": [
    "# TODO: Create a set called `colors` with three different colors as strings\n",
    "\n",
    "# TODO: Add a new color to the set\n",
    "\n",
    "# TODO: Remove a color from the set"
   ]
  },
  {
   "cell_type": "markdown",
   "id": "0036e14e",
   "metadata": {},
   "source": [
    "### Dictionaries\n",
    "Dictionaries are mutable, unordered collections of key-value pairs. Here are some common operations you can perform on dictionaries:\n",
    "\n",
    "```python\n",
    "person = {\n",
    "    \"name\": \"John\",\n",
    "    \"age\": 30,\n",
    "    \"city\": \"New York\"\n",
    "}\n",
    "\n",
    "# Accessing values\n",
    "print(person[\"name\"])   # Output: John\n",
    "\n",
    "# Modifying values\n",
    "person[\"age\"] = 31\n",
    "print(person)           # Output: {'name': 'John', 'age': 31, 'city': 'New York'}\n",
    "\n",
    "# Adding new key-value pairs\n",
    "person[\"gender\"] = \"Male\"\n",
    "print(person)           # Output: {'name':\n",
    "\n",
    " 'John', 'age': 31, 'city': 'New York', 'gender': 'Male'}\n",
    "\n",
    "# Removing key-value pairs\n",
    "del person[\"city\"]\n",
    "print(person)           # Output: {'name': 'John', 'age': 31, 'gender': 'Male'}\n",
    "```\n",
    "\n",
    "\n",
    "#### Exercise 8: Dictionaries\n",
    "\n",
    "Create a dictionary called `person` with the following key-value pairs:\n",
    "- \"name\": your name as a string\n",
    "- \"age\": your age as an integer\n",
    "- \"city\": your city as a string\n",
    "Print the value associated with the \"name\" key. Modify the value associated with the \"age\" key. Add a new key-value pair to the dictionary. Remove the key-value pair with the key \"city\"."
   ]
  },
  {
   "cell_type": "code",
   "execution_count": 8,
   "id": "a58099d9",
   "metadata": {},
   "outputs": [],
   "source": [
    "# TODO: Create a dictionary called `person` with the specified key-value pairs\n",
    "\n",
    "# TODO: Print the value associated with the \"name\" key\n",
    "\n",
    "# TODO: Modify the value associated with the \"age\" key\n",
    "\n",
    "# TODO: Add a new key-value pair to the dictionary\n",
    "\n",
    "# TODO: Remove the key-value pair with the key \"city\""
   ]
  },
  {
   "cell_type": "markdown",
   "id": "7a24a118",
   "metadata": {},
   "source": [
    "## Loops: while and for, continue, break\n",
    "\n",
    "### while Loop\n",
    "The `while` loop repeatedly executes a block of code as long as a given condition is true. Here's an example:\n",
    "\n",
    "```python\n",
    "count = 0\n",
    "\n",
    "while count < 5:\n",
    "    print(count)\n",
    "    count += 1\n",
    "```\n",
    "\n",
    "#### Exercise 9: while Loop\n",
    "\n",
    "Write a while loop that prints the numbers from 1 to 5 (inclusive)."
   ]
  },
  {
   "cell_type": "code",
   "execution_count": 9,
   "id": "27ea17ed",
   "metadata": {},
   "outputs": [],
   "source": [
    "# TODO: Write a while loop that prints the numbers from 1 to 5 (inclusive)"
   ]
  },
  {
   "cell_type": "markdown",
   "id": "67556f57",
   "metadata": {},
   "source": [
    "### for Loop\n",
    "The `for` loop iterates over a sequence of elements. Here's an example:\n",
    "\n",
    "```python\n",
    "fruits = [\"apple\", \"banana\", \"cherry\"]\n",
    "\n",
    "for fruit in fruits:\n",
    "    print(fruit)\n",
    "```\n",
    "\n",
    "#### Exercise 10: for Loop\n",
    "\n",
    "Write a for loop that iterates over the numbers from 1 to 5 (inclusive) and prints each number."
   ]
  },
  {
   "cell_type": "code",
   "execution_count": 10,
   "id": "3e76bdda",
   "metadata": {},
   "outputs": [],
   "source": [
    "# TODO: Write a for loop that iterates over the numbers from 1 to 5 (inclusive) and prints each number"
   ]
  },
  {
   "cell_type": "markdown",
   "id": "f801377f",
   "metadata": {},
   "source": [
    "### continue and break Statements\n",
    "- The `continue` statement is used to skip the current iteration and move to the next one in the loop.\n",
    "- The `break` statement is used to exit the loop prematurely. It terminates the loop and continues with the next statement after the loop.\n",
    "\n",
    "```python\n",
    "for i in range(10):\n",
    "    if i % 2 == 0:\n",
    "        continue    # Skip even numbers\n",
    "    elif i == 7:\n",
    "        break       # Exit the loop when i is 7\n",
    "    print(i)\n",
    "```\n",
    "\n",
    "#### Exercise 11: continue Statement\n",
    "\n",
    "Write a for loop that iterates over the numbers from 1 to 10 (inclusive) and prints only the odd numbers. Use the `continue` statement to skip even numbers."
   ]
  },
  {
   "cell_type": "code",
   "execution_count": 11,
   "id": "25fded55",
   "metadata": {},
   "outputs": [],
   "source": [
    "# TODO: Write a for loop that iterates over the numbers from 1 to 10 (inclusive)\n",
    "#       and prints only the odd numbers. Use the `continue` statement to skip even numbers"
   ]
  },
  {
   "cell_type": "markdown",
   "id": "70f65ca8",
   "metadata": {},
   "source": [
    "### Exceptions\n",
    "Exceptions are errors that occur during the execution of a program. You can handle exceptions using the `try-except` block. Here's an example:\n",
    "\n",
    "```python\n",
    "try:\n",
    "    result = 10 / 0\n",
    "    print(result)\n",
    "except ZeroDivisionError:\n",
    "    print(\"Error: Division by zero occurred.\")\n",
    "```\n",
    "\n",
    "#### Exercise 12: Handling Exceptions\n",
    "\n",
    "Write a try-except block to catch a `ZeroDivisionError`. In the try block, divide a number by zero. In the except block, print an error message."
   ]
  },
  {
   "cell_type": "code",
   "execution_count": 12,
   "id": "c9adb3e9",
   "metadata": {},
   "outputs": [],
   "source": [
    "# TODO: Write a try-except block to catch a ZeroDivisionError\n",
    "#       In the try block, divide a number by zero\n",
    "#       In the except block, print an error message"
   ]
  },
  {
   "cell_type": "markdown",
   "id": "e0e2a64e",
   "metadata": {},
   "source": [
    "### Raising Exceptions\n",
    "You can raise exceptions manually using the `raise` statement. Here's an example:\n",
    "\n",
    "```python\n",
    "age = -5\n",
    "\n",
    "if age < 0:\n",
    "    raise ValueError(\"Age cannot be negative.\")\n",
    "```\n",
    "\n",
    "#### Exercise 13: Raising Exceptions\n",
    "\n",
    "Write code that raises a `ValueError` exception with an appropriate error message when a negative number is encountered. Test it with a negative number."
   ]
  },
  {
   "cell_type": "code",
   "execution_count": 13,
   "id": "be616fd5",
   "metadata": {},
   "outputs": [],
   "source": [
    "# TODO: Write code that raises a ValueError exception with an appropriate error message\n",
    "#       when a negative number is encountered. Test it with a negative number"
   ]
  },
  {
   "cell_type": "markdown",
   "id": "69ec5473",
   "metadata": {},
   "source": [
    "## External Libraries\n",
    "\n",
    "### Installing External Libraries\n",
    "To use external libraries in Python, you need to install them. The most common way to install libraries is using the package manager `pip`. For example, to install the `requests` library, you can run the following command in your terminal:\n",
    "\n",
    "```\n",
    "pip install requests\n",
    "```\n",
    "\n",
    "### Importing External Libraries\n",
    "Once a library is installed, you can import it into your Python code using the `import` statement. Here's an example:\n",
    "\n",
    "```python\n",
    "import requests\n",
    "\n",
    "response = requests.get(\"https://www.example.com\")\n",
    "print(response.status_code)\n",
    "```\n",
    "\n",
    "#### Exercise 14: Importing and Using External Libraries\n",
    "\n",
    "Import the `math` module. Use the `math.sqrt()` function to calculate the square root of 16. Print the result."
   ]
  },
  {
   "cell_type": "code",
   "execution_count": 14,
   "id": "8c7f9019",
   "metadata": {},
   "outputs": [],
   "source": [
    "# TODO: Import the `math` module\n",
    "\n",
    "# TODO: Use the `math.sqrt()` function to calculate the square root of 16\n",
    "#       Print the result"
   ]
  },
  {
   "cell_type": "markdown",
   "id": "7a6c362b",
   "metadata": {},
   "source": [
    "## Basics of Terminal Commands\n",
    "\n",
    "### Running Python Files\n",
    "To run a Python file, open your terminal or command prompt and navigate to the directory where the file is located. Then, use the `python` command followed by the file name and its extension. For example:\n",
    "\n",
    "```\n",
    "python my_script.py\n",
    "```\n",
    "\n",
    "### Navigating Directories\n",
    "- `cd directory_name` - Change to a specific directory.\n",
    "- `cd ..` - Move up to the parent directory.\n",
    "- `cd /` - Move to the root directory.\n",
    "\n",
    "#### Exercise 15: Navigating Directories\n",
    "\n",
    "Open your terminal or command prompt and navigate to a different directory using the `cd` command."
   ]
  },
  {
   "cell_type": "markdown",
   "id": "efa30e8e",
   "metadata": {},
   "source": [
    "### Listing Files and Directories\n",
    "- `ls` - List files and directories in the current directory.\n",
    "- `ls -l` - List files and directories with detailed information.\n",
    "- `ls -a` - List all files and directories, including hidden ones.\n",
    "\n",
    "#### Exercise 16: Listing Files and Directories\n",
    "\n",
    "Open your terminal or command prompt and list the files and directories in the current directory using the `ls` command."
   ]
  },
  {
   "cell_type": "markdown",
   "id": "2a124359",
   "metadata": {},
   "source": [
    "### Creating and Deleting Files/Directories\n",
    "- `touch file_name` - Create an empty file.\n",
    "- `mkdir directory_name` - Create a new directory.\n",
    "- `rm file_name` - Delete a file.\n",
    "- `rmdir directory_name` - Delete an empty directory.\n",
    "\n",
    "#### Exercise 17: Creating and Deleting Files/Directories\n",
    "\n",
    "Open your terminal or command prompt and create an empty file using the `touch` command. Then, delete the file using the `rm` command."
   ]
  },
  {
   "cell_type": "markdown",
   "id": "0dca991a",
   "metadata": {},
   "source": [
    "Congratulations on completing the exercises! You now have a good understanding of the covered topics. Feel free to explore more advanced concepts and continue practicing your Python skills.\n",
    "\n",
    "Happy coding!"
   ]
  }
 ],
 "metadata": {
  "kernelspec": {
   "display_name": "Python 3 (ipykernel)",
   "language": "python",
   "name": "python3"
  },
  "language_info": {
   "codemirror_mode": {
    "name": "ipython",
    "version": 3
   },
   "file_extension": ".py",
   "mimetype": "text/x-python",
   "name": "python",
   "nbconvert_exporter": "python",
   "pygments_lexer": "ipython3",
   "version": "3.10.9"
  }
 },
 "nbformat": 4,
 "nbformat_minor": 5
}
